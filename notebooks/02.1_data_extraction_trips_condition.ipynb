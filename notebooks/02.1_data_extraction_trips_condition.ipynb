{
 "cells": [
  {
   "cell_type": "markdown",
   "metadata": {},
   "source": [
    "# Data extraction of trips"
   ]
  },
  {
   "cell_type": "markdown",
   "metadata": {},
   "source": [
    "# Purpose\n",
    "As a first step the time series data will be divided into trips, as a data reduction. Energy consumption can be calculated for each trip together with other aggregated quantities such as mean values, standard deviations etc. This will be used to analyze how much trips differ from each other over the year."
   ]
  },
  {
   "cell_type": "markdown",
   "metadata": {},
   "source": [
    "# Methodology\n",
    "* Find a good logical condition to distinquish between the various trips from the time series."
   ]
  },
  {
   "cell_type": "markdown",
   "metadata": {},
   "source": [
    "# Setup"
   ]
  },
  {
   "cell_type": "code",
   "execution_count": null,
   "metadata": {
    "gather": {
     "logged": 1618500219438
    }
   },
   "outputs": [],
   "source": [
    "#%load imports.py\n",
    "%matplotlib inline\n",
    "%load_ext autoreload\n",
    "%autoreload 2\n",
    "\n",
    "import numpy as np\n",
    "import pandas as pd\n",
    "import matplotlib.pyplot as plt\n",
    "#import seaborn as sns\n",
    "import os\n",
    "from collections import OrderedDict\n",
    "\n",
    "from IPython.display import display\n",
    "\n",
    "pd.options.display.max_rows = 999\n",
    "pd.options.display.max_columns = 999\n",
    "pd.set_option(\"display.max_columns\", None)\n",
    "\n",
    "import folium\n",
    "import plotly.express as px\n",
    "import plotly.graph_objects as go\n",
    "\n",
    "import sys\n",
    "import os\n",
    "sys.path.append('../')\n",
    "from src.visualization import visualize\n",
    "from src.data.get_dataset import get_dataset\n",
    "\n"
   ]
  },
  {
   "cell_type": "code",
   "execution_count": null,
   "metadata": {
    "gather": {
     "logged": 1618500116933
    }
   },
   "outputs": [],
   "source": [
    "df = get_dataset(name='tycho_short', n_rows=200000)"
   ]
  },
  {
   "cell_type": "markdown",
   "metadata": {},
   "source": [
    "## Plot maps"
   ]
  },
  {
   "cell_type": "code",
   "execution_count": null,
   "metadata": {
    "gather": {
     "logged": 1618500118189
    }
   },
   "outputs": [],
   "source": [
    "visualize.plot_map(df=df, width=1000, height=600, zoom_start=14)"
   ]
  },
  {
   "cell_type": "markdown",
   "metadata": {},
   "source": [
    "## Identify trips"
   ]
  },
  {
   "cell_type": "code",
   "execution_count": null,
   "metadata": {
    "gather": {
     "logged": 1618500118273
    }
   },
   "outputs": [],
   "source": [
    "#df_ = df.resample('20S').mean()\n",
    "#df_.dropna(inplace=True)\n",
    "#df_ = df_.iloc[0:1000]\n",
    "df_ = df.iloc[0:5000]\n",
    "df_.sort_index(inplace=True)\n",
    "#mask = df_['sog'] > 0.5\n",
    "#df_ = df_.loc[mask]\n",
    "\n",
    "mask = df_.index.to_series().diff() > '0 days 00:00:20'\n",
    "mask = np.roll(mask,-1)\n",
    "mask[-1] = False\n",
    "\n",
    "df_ends = df_.loc[mask].copy()"
   ]
  },
  {
   "cell_type": "code",
   "execution_count": null,
   "metadata": {
    "gather": {
     "logged": 1618500227974
    }
   },
   "outputs": [],
   "source": [
    "fig1 = px.line(df_, y='sog', template=\"plotly_dark\", width=1500, height=400,)\n",
    "\n",
    "fig2 = px.scatter(df_ends, y='sog', template=\"plotly_dark\",  width=1500, height=400)\n",
    "\n",
    "fig3 = go.Figure(data=fig1.data + fig2.data)\n",
    "\n",
    "fig3.show()"
   ]
  },
  {
   "cell_type": "code",
   "execution_count": null,
   "metadata": {},
   "outputs": [],
   "source": [
    "df_ends['trip_no'] = np.arange(len(df_ends),dtype=int)\n",
    "\n",
    "time_old = df_.index[0]\n",
    "for time, end in df_ends.iterrows():\n",
    "    \n",
    "    mask = ((time_old < df_.index) & \n",
    "            (df_.index <= time)\n",
    "           )\n",
    "    time_old = time\n",
    "    \n",
    "    df_.loc[mask,'trip_no'] = end['trip_no']"
   ]
  },
  {
   "cell_type": "code",
   "execution_count": null,
   "metadata": {},
   "outputs": [],
   "source": [
    "df_2 = df_.dropna(subset=['trip_no'])\n",
    "\n",
    "fig = px.line(df_2, y='sog', template=\"plotly_dark\", color='trip_no', width=1500, height=400,)\n",
    "fig.show()"
   ]
  },
  {
   "cell_type": "code",
   "execution_count": null,
   "metadata": {},
   "outputs": [],
   "source": [
    "for trip_no, trip in df_.groupby(by='trip_no'):\n",
    "    \n",
    "    trip_time = trip.index - trip.index[0]\n",
    "    df_.loc[trip.index,'trip_time'] = trip_time\n",
    "    "
   ]
  },
  {
   "cell_type": "code",
   "execution_count": null,
   "metadata": {},
   "outputs": [],
   "source": [
    "df_2 = df_.dropna(subset=['trip_no'])\n",
    "\n",
    "fig = px.line(df_2, x='trip_time', y='sog', template=\"plotly_dark\", color='trip_no', width=1500, height=400,)\n",
    "fig.show()"
   ]
  }
 ],
 "metadata": {
  "kernel_info": {
   "name": "python38-azureml"
  },
  "kernelspec": {
   "display_name": "Python 3",
   "language": "python",
   "name": "python3"
  },
  "language_info": {
   "codemirror_mode": {
    "name": "ipython",
    "version": 3
   },
   "file_extension": ".py",
   "mimetype": "text/x-python",
   "name": "python",
   "nbconvert_exporter": "python",
   "pygments_lexer": "ipython3",
   "version": "3.8.7"
  },
  "metadata": {
   "interpreter": {
    "hash": "1af9919311219ec039f6aa4a644c204a4b4e1e8e730770ba7f65632752293606"
   }
  },
  "microsoft": {
   "host": {
    "AzureML": {
     "notebookHasBeenCompleted": true
    }
   }
  },
  "nteract": {
   "version": "nteract-front-end@1.0.0"
  }
 },
 "nbformat": 4,
 "nbformat_minor": 4
}

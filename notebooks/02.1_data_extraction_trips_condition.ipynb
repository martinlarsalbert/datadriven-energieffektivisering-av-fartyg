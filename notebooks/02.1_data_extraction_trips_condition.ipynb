{
 "cells": [
  {
   "cell_type": "markdown",
   "metadata": {},
   "source": [
    "# Data extraction of trips"
   ]
  },
  {
   "cell_type": "markdown",
   "metadata": {},
   "source": [
    "# Purpose\n",
    "As a first step the time series data will be divided into trips, as a data reduction. Energy consumption can be calculated for each trip together with other aggregated quantities such as mean values, standard deviations etc. This will be used to analyze how much trips differ from each other over the year."
   ]
  },
  {
   "cell_type": "markdown",
   "metadata": {},
   "source": [
    "# Methodology\n",
    "* Find a good logical condition to distinquish between the various trips from the time series."
   ]
  },
  {
   "cell_type": "markdown",
   "metadata": {},
   "source": [
    "# Setup"
   ]
  },
  {
   "cell_type": "code",
   "execution_count": null,
   "metadata": {
    "gather": {
     "logged": 1618500219438
    }
   },
   "outputs": [],
   "source": [
    "#%load imports.py\n",
    "%matplotlib inline\n",
    "%load_ext autoreload\n",
    "%autoreload 2\n",
    "\n",
    "import numpy as np\n",
    "import pandas as pd\n",
    "import matplotlib.pyplot as plt\n",
    "import matplotlib.pyplot as plt\n",
    "plt.rcParams[\"figure.figsize\"] = (20,3)\n",
    "\n",
    "#import seaborn as sns\n",
    "import os\n",
    "from collections import OrderedDict\n",
    "\n",
    "from IPython.display import display\n",
    "\n",
    "pd.options.display.max_rows = 999\n",
    "pd.options.display.max_columns = 999\n",
    "pd.set_option(\"display.max_columns\", None)\n",
    "\n",
    "import folium\n",
    "import plotly.express as px\n",
    "import plotly.graph_objects as go\n",
    "\n",
    "import sys\n",
    "import os\n",
    "sys.path.append('../')\n",
    "from src.visualization import visualize\n",
    "from src.data import prepare_dataset\n",
    "from src.data import trips\n",
    "import scipy.integrate\n",
    "import seaborn as sns\n"
   ]
  },
  {
   "cell_type": "code",
   "execution_count": null,
   "metadata": {
    "gather": {
     "logged": 1618500116933
    }
   },
   "outputs": [],
   "source": [
    "df = prepare_dataset.get_dataset(name='tycho_short', n_rows=200000)"
   ]
  },
  {
   "cell_type": "markdown",
   "metadata": {},
   "source": [
    "## Plot maps"
   ]
  },
  {
   "cell_type": "code",
   "execution_count": null,
   "metadata": {
    "gather": {
     "logged": 1618500118189
    }
   },
   "outputs": [],
   "source": [
    "visualize.plot_map(df=df, width=1000, height=600, zoom_start=14)"
   ]
  },
  {
   "cell_type": "markdown",
   "metadata": {},
   "source": [
    "## Identify trips"
   ]
  },
  {
   "cell_type": "code",
   "execution_count": null,
   "metadata": {
    "gather": {
     "logged": 1618500118273
    }
   },
   "outputs": [],
   "source": [
    "df_ = df.iloc[0:5000]\n",
    "df_.sort_index(inplace=True)\n",
    "\n",
    "mask = df_.index.to_series().diff() > '0 days 00:00:20'\n",
    "\n",
    "df_starts = df_.loc[mask].copy()\n",
    "\n",
    "mask = np.roll(mask,-1)\n",
    "mask[-1] = False\n",
    "df_ends = df_.loc[mask].copy()\n",
    "\n",
    "# Removing end of first incomplete trip\n",
    "if df_ends.index[0] < df_starts.index[0]:\n",
    "    df_ends=df_ends.iloc[1:].copy()\n",
    "\n",
    "# Removing start of last incomplete trip\n",
    "if df_starts.index[-1] > df_ends.index[-1]:\n",
    "    df_starts=df_starts.iloc[0:-1].copy()\n",
    "\n",
    "    \n",
    "assert len(df_starts) == len(df_ends)"
   ]
  },
  {
   "cell_type": "code",
   "execution_count": null,
   "metadata": {
    "gather": {
     "logged": 1618500227974
    }
   },
   "outputs": [],
   "source": [
    "fig1 = px.line(df_, y='sog', template=\"plotly_dark\", width=1500, height=400,)\n",
    "\n",
    "fig2 = px.scatter(df_starts, y='sog', template=\"plotly_dark\",  width=1500, height=400)\n",
    "fig3 = px.scatter(df_ends, y='sog', template=\"plotly_dark\",  width=1500, height=400)\n",
    "\n",
    "fig = go.Figure(data=fig1.data + fig2.data + fig3.data)\n",
    "\n",
    "fig.show()"
   ]
  },
  {
   "cell_type": "code",
   "execution_count": null,
   "metadata": {},
   "outputs": [],
   "source": [
    "df_starts['trip_no'] = np.arange(len(df_starts),dtype=int)\n",
    "\n",
    "for (start_time, start), (end_time, end) in zip(df_starts.iterrows(), df_ends.iterrows()):\n",
    "    \n",
    "    mask = ((start_time <= df_.index) & \n",
    "            (df_.index <= end_time)\n",
    "           )\n",
    "    \n",
    "    df_.loc[mask,'trip_no'] = start['trip_no']\n",
    "    \n",
    "df_2 = df_.dropna(subset=['trip_no'])  # drop unfinnished trips"
   ]
  },
  {
   "cell_type": "code",
   "execution_count": null,
   "metadata": {},
   "outputs": [],
   "source": [
    "groups = df_2.groupby(by='trip_no')\n",
    "df_2['trip_time'] = groups['trip_no'].transform(lambda x : x.index - x.index[0] )"
   ]
  },
  {
   "cell_type": "code",
   "execution_count": null,
   "metadata": {},
   "outputs": [],
   "source": [
    "fig = px.line(df_2, y='sog', template=\"plotly_dark\", color='trip_no', width=1500, height=400,)\n",
    "fig.show()\n",
    "\n",
    "\n",
    "fig = px.line(df_2, x='trip_time', y='sog', template=\"plotly_dark\", color='trip_no', width=1500, height=400,)\n",
    "fig.show()"
   ]
  },
  {
   "cell_type": "code",
   "execution_count": null,
   "metadata": {},
   "outputs": [],
   "source": [
    "df.head()"
   ]
  },
  {
   "cell_type": "code",
   "execution_count": null,
   "metadata": {},
   "outputs": [],
   "source": [
    "#df_ = \n",
    "#df_ = calculate_rudder_angles(df=df)"
   ]
  },
  {
   "cell_type": "markdown",
   "metadata": {},
   "source": [
    "## Use package implementation to do the same thing:"
   ]
  },
  {
   "cell_type": "code",
   "execution_count": null,
   "metadata": {},
   "outputs": [],
   "source": [
    "df_2 = trips.divide(df=df, trip_separator='0 days 00:02:00')"
   ]
  },
  {
   "cell_type": "code",
   "execution_count": null,
   "metadata": {},
   "outputs": [],
   "source": [
    "groups = df_2.groupby(by='trip_no')\n",
    "df_3 = groups.resample('60S').mean()\n",
    "df_3.dropna(inplace=True)\n",
    "df_3.index = df_3.index.get_level_values(1)\n",
    "\n",
    "df_3['trip_time'] = groups['trip_no'].transform(lambda x : x.index - x.index[0] )"
   ]
  },
  {
   "cell_type": "code",
   "execution_count": null,
   "metadata": {},
   "outputs": [],
   "source": [
    "fig = px.line(df_3, x='trip_time', y='sog', template=\"plotly_dark\", color='trip_no', width=1500, height=400)\n",
    "fig.show()"
   ]
  },
  {
   "cell_type": "code",
   "execution_count": null,
   "metadata": {},
   "outputs": [],
   "source": [
    "trip = groups.get_group(1)\n",
    "visualize.plot_map(df=trip)"
   ]
  },
  {
   "cell_type": "code",
   "execution_count": null,
   "metadata": {},
   "outputs": [],
   "source": [
    "trip.describe()"
   ]
  },
  {
   "cell_type": "code",
   "execution_count": null,
   "metadata": {},
   "outputs": [],
   "source": [
    "trip['power_em_thruster_total']"
   ]
  },
  {
   "cell_type": "code",
   "execution_count": null,
   "metadata": {},
   "outputs": [],
   "source": [
    "def integrate_power(trip):\n",
    "    t = pd.TimedeltaIndex(trip['trip_time']).total_seconds()\n",
    "    energy_em_thruster_total = scipy.integrate.simps(y=trip['power_em_thruster_total'],x=t)\n",
    "    return energy_em_thruster_total"
   ]
  },
  {
   "cell_type": "code",
   "execution_count": null,
   "metadata": {},
   "outputs": [],
   "source": [
    "energy_em_thruster_total = groups.apply(func=integrate_power)"
   ]
  },
  {
   "cell_type": "code",
   "execution_count": null,
   "metadata": {},
   "outputs": [],
   "source": [
    "ax = sns.histplot(data=energy_em_thruster_total, x=None, stat=\"density\", bins=20, kde=True);\n",
    "ax.set_xlabel('energy_em_thruster_total')"
   ]
  },
  {
   "cell_type": "code",
   "execution_count": null,
   "metadata": {},
   "outputs": [],
   "source": [
    "best = energy_em_thruster_total.sort_values(ascending=True).index[0]\n",
    "worst = energy_em_thruster_total.sort_values(ascending=False).index[0]\n"
   ]
  },
  {
   "cell_type": "code",
   "execution_count": null,
   "metadata": {},
   "outputs": [],
   "source": [
    "trip = groups.get_group(worst)\n",
    "visualize.plot_map(df=trip, color_key='cog')"
   ]
  },
  {
   "cell_type": "code",
   "execution_count": null,
   "metadata": {},
   "outputs": [],
   "source": [
    "trip = groups.get_group(best)\n",
    "visualize.plot_map(df=trip)"
   ]
  },
  {
   "cell_type": "markdown",
   "metadata": {},
   "source": [
    "## Save trips\n",
    "Save a new dataset with *trip_no*, *trip_time* and correct column names etc."
   ]
  },
  {
   "cell_type": "code",
   "execution_count": null,
   "metadata": {},
   "outputs": [],
   "source": [
    "from azureml.core import Workspace, Dataset\n",
    "\n",
    "subscription_id = '3e9a363e-f191-4398-bd11-d32ccef9529c'\n",
    "resource_group = 'demops'\n",
    "workspace_name = 'D2E2F'\n",
    "\n",
    "name='tycho_short'\n",
    "\n",
    "workspace = Workspace(subscription_id, resource_group, workspace_name)"
   ]
  },
  {
   "cell_type": "code",
   "execution_count": null,
   "metadata": {},
   "outputs": [],
   "source": [
    "def save():\n",
    "    \n",
    "    df_2_save = df_2.copy()\n",
    "    df_2_save.reset_index(inplace=True)\n",
    "    df_2_save['time'] = df_2_save['time'].astype(str)\n",
    "    df_2_save['trip_time'] = df_2_save['trip_time'].astype(str)\n",
    "    df_2_save['trip_no'] = df_2_save['trip_no'].astype(int)\n",
    "    \n",
    "    datastore = workspace.get_default_datastore()\n",
    "    dataset_2 = Dataset.Tabular.register_pandas_dataframe(dataframe=df_2_save, target=datastore, name=new_name)\n"
   ]
  },
  {
   "cell_type": "code",
   "execution_count": null,
   "metadata": {},
   "outputs": [],
   "source": [
    "new_name = 'tycho_short_id'\n",
    "if not new_name in workspace.datasets:\n",
    "    save()\n",
    "    "
   ]
  },
  {
   "cell_type": "code",
   "execution_count": null,
   "metadata": {},
   "outputs": [],
   "source": []
  }
 ],
 "metadata": {
  "kernel_info": {
   "name": "python38-azureml"
  },
  "kernelspec": {
   "display_name": "Python 3",
   "language": "python",
   "name": "python3"
  },
  "language_info": {
   "codemirror_mode": {
    "name": "ipython",
    "version": 3
   },
   "file_extension": ".py",
   "mimetype": "text/x-python",
   "name": "python",
   "nbconvert_exporter": "python",
   "pygments_lexer": "ipython3",
   "version": "3.8.7"
  },
  "metadata": {
   "interpreter": {
    "hash": "1af9919311219ec039f6aa4a644c204a4b4e1e8e730770ba7f65632752293606"
   }
  },
  "microsoft": {
   "host": {
    "AzureML": {
     "notebookHasBeenCompleted": true
    }
   }
  },
  "nteract": {
   "version": "nteract-front-end@1.0.0"
  }
 },
 "nbformat": 4,
 "nbformat_minor": 4
}

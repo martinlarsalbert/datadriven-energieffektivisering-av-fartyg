{
 "cells": [
  {
   "cell_type": "markdown",
   "metadata": {},
   "source": [
    "## Analyzing pilot boat (only speed)"
   ]
  },
  {
   "cell_type": "code",
   "execution_count": null,
   "metadata": {},
   "outputs": [],
   "source": [
    "%load_ext autoreload\n",
    "%autoreload 2"
   ]
  },
  {
   "cell_type": "code",
   "execution_count": null,
   "metadata": {},
   "outputs": [],
   "source": [
    "import src.data\n",
    "import numpy as np\n",
    "import pandas as pd\n",
    "import matplotlib.pyplot as plt\n",
    "import seaborn as sns\n",
    "\n",
    "pd.options.display.max_rows = 999\n",
    "pd.options.display.max_columns = 999\n",
    "pd.set_option(\"display.max_columns\", None)"
   ]
  },
  {
   "cell_type": "code",
   "execution_count": null,
   "metadata": {},
   "outputs": [],
   "source": [
    "from dask.distributed import Client, progress, TimeoutError\n",
    "client = Client(n_workers=4, threads_per_worker=1, memory_limit='2GB')\n",
    "client"
   ]
  },
  {
   "cell_type": "code",
   "execution_count": null,
   "metadata": {},
   "outputs": [],
   "source": [
    "reader = pd.read_csv(src.data.path_lots, chunksize=None, iterator=False)\n",
    "df_raw = reader\n",
    "df_raw.set_index('Timestamp [UTC]', inplace=True)"
   ]
  },
  {
   "cell_type": "code",
   "execution_count": null,
   "metadata": {},
   "outputs": [],
   "source": [
    "df_raw.describe()"
   ]
  },
  {
   "cell_type": "code",
   "execution_count": null,
   "metadata": {},
   "outputs": [],
   "source": [
    "mask = df_raw.std() > 0\n",
    "interesting=df_raw.columns[mask]\n",
    "df = df_raw[interesting].copy()\n",
    "\n",
    "mask = df['Speed over ground (kts)']>5\n",
    "df=df.loc[mask]\n",
    "#df = df.iloc[0:10000]\n"
   ]
  },
  {
   "cell_type": "code",
   "execution_count": null,
   "metadata": {},
   "outputs": [],
   "source": [
    "df.describe()"
   ]
  },
  {
   "cell_type": "code",
   "execution_count": null,
   "metadata": {},
   "outputs": [],
   "source": [
    "df.columns"
   ]
  },
  {
   "cell_type": "code",
   "execution_count": null,
   "metadata": {},
   "outputs": [],
   "source": [
    "interesting = [\n",
    "              'Consumption ME all (L/h)',\n",
    "               'Economy (L/nm)',\n",
    "               'Speed over ground (kts)',\n",
    "              'Engine speed ME1 (rpm)',\n",
    "              'Engine speed ME2 (rpm)',\n",
    "              \n",
    "              ]\n",
    "data = df[interesting].copy()\n",
    "data.dropna(how='any', inplace = True)"
   ]
  },
  {
   "cell_type": "markdown",
   "metadata": {},
   "source": [
    "## Regression"
   ]
  },
  {
   "cell_type": "code",
   "execution_count": null,
   "metadata": {},
   "outputs": [],
   "source": [
    "from sklearn.feature_selection import SelectKBest\n",
    "from sklearn.feature_selection import f_regression\n",
    "from sklearn.preprocessing import StandardScaler\n",
    "from sklearn.preprocessing import PolynomialFeatures\n",
    "from sklearn.pipeline import Pipeline\n",
    "from sklearn.model_selection import cross_val_score\n",
    "from sklearn.model_selection import RepeatedKFold\n",
    "from sklearn.linear_model import LinearRegression\n",
    "\n",
    "select_k_best = SelectKBest(score_func=f_regression, k=4)\n",
    "standard_scaler = StandardScaler()\n",
    "polynomial_features = PolynomialFeatures(degree=2)\n",
    "linear_regression = LinearRegression()\n",
    "\n",
    "steps = [\n",
    "    ('scaler', standard_scaler),\n",
    "    ('polynomial_features', polynomial_features),\n",
    "    ('select_k_best', select_k_best),\n",
    "    ('linear_regression', linear_regression),\n",
    "]\n",
    "\n",
    "pipeline_polynomial_scaled_selection = Pipeline(steps=steps)"
   ]
  },
  {
   "cell_type": "code",
   "execution_count": null,
   "metadata": {},
   "outputs": [],
   "source": [
    "#X = data[['Speed over ground (kts)']].copy()\n",
    "#X['Engine speed'] = (data['Engine speed ME1 (rpm)'] + data['Engine speed ME2 (rpm)'])/2\n",
    "#y = data['Consumption ME all (L/h)']                        \n",
    "\n",
    "label_y = 'Consumption ME all (L/h)'\n",
    "X = data[['Speed over ground (kts)']].copy()\n",
    "#X['Engine speed'] = (data['Engine speed ME1 (rpm)'] + data['Engine speed ME2 (rpm)'])/2\n",
    "y = data[label_y]       "
   ]
  },
  {
   "cell_type": "code",
   "execution_count": null,
   "metadata": {},
   "outputs": [],
   "source": [
    "from sklearn.model_selection import GridSearchCV\n",
    "import joblib\n",
    "\n",
    "# Decide how many k\n",
    "max_degree = 5\n",
    "no_features = len(X.columns)\n",
    "polynomial_features = PolynomialFeatures(degree=max_degree)\n",
    "polynomial_features.fit(np.array([np.arange(no_features)]))\n",
    "max_k = len(polynomial_features.get_feature_names())\n",
    "\n",
    "\n",
    "# define the grid\n",
    "grid = dict()\n",
    "grid['select_k_best__k'] = [i for i in range(1, max_k+1)]\n",
    "grid['polynomial_features__degree'] = [i for i in range(1, max_degree+1)]\n",
    "\n",
    "from sklearn.model_selection import RepeatedKFold\n",
    "cv = RepeatedKFold(n_splits=5, n_repeats=2, random_state=1)\n",
    "\n",
    "# define the grid search\n",
    "search = GridSearchCV(estimator=pipeline_polynomial_scaled_selection, param_grid=grid, scoring='neg_mean_absolute_error', n_jobs=-1, cv=cv)\n",
    "#search = GridSearchCV(estimator=pipeline_polynomial_scaled_selection, param_grid=grid, scoring='r2', n_jobs=-1, cv=cv)\n",
    "# perform the search\n",
    "with joblib.parallel_backend('dask'):\n",
    "    search_result = search.fit(X, y)"
   ]
  },
  {
   "cell_type": "code",
   "execution_count": null,
   "metadata": {},
   "outputs": [],
   "source": [
    "model = search_result.best_estimator_"
   ]
  },
  {
   "cell_type": "code",
   "execution_count": null,
   "metadata": {},
   "outputs": [],
   "source": [
    "search_result.cv_results_['mean_test_score']"
   ]
  },
  {
   "cell_type": "code",
   "execution_count": null,
   "metadata": {},
   "outputs": [],
   "source": [
    "search_result.cv_results_['std_test_score']"
   ]
  },
  {
   "cell_type": "code",
   "execution_count": null,
   "metadata": {},
   "outputs": [],
   "source": [
    "cv_results_ = search_result.cv_results_\n",
    "df_search = pd.DataFrame()\n",
    "for param, mean_test_score, std_test_score in zip(cv_results_['params'],cv_results_['mean_test_score'],cv_results_['std_test_score']):\n",
    "    r_ = pd.Series(param)\n",
    "    r_['mean_test_score'] = mean_test_score\n",
    "    r_['std_test_score'] = std_test_score\n",
    "    df_search = df_search.append(r_, ignore_index=True)\n"
   ]
  },
  {
   "cell_type": "code",
   "execution_count": null,
   "metadata": {},
   "outputs": [],
   "source": [
    "fig,ax=plt.subplots()\n",
    "\n",
    "for k, group in df_search.groupby('polynomial_features__degree'):\n",
    "    \n",
    "    label = 'k:%i' % k\n",
    "    ax.errorbar(group['select_k_best__k'], group['mean_test_score'], yerr=group['std_test_score'], linestyle='-', marker='.', label=label)\n",
    "    \n",
    "ax.grid()\n",
    "ax.legend()    "
   ]
  },
  {
   "cell_type": "code",
   "execution_count": null,
   "metadata": {},
   "outputs": [],
   "source": [
    "fig,ax=plt.subplots()\n",
    "\n",
    "mask = ((df_search['select_k_best__k'] >= 4) &\n",
    "        (df_search['polynomial_features__degree'] >= 1)\n",
    "       )\n",
    "df_search_zoom = df_search.loc[mask].copy()\n",
    "\n",
    "for k, group in df_search_zoom.groupby('polynomial_features__degree'):\n",
    "    \n",
    "    label = 'k:%i' % k\n",
    "    ax.errorbar(group['select_k_best__k'], group['mean_test_score'], yerr=group['std_test_score'], linestyle='-', marker='.', label=label)\n",
    "    \n",
    "ax.grid()\n",
    "ax.legend() "
   ]
  },
  {
   "cell_type": "code",
   "execution_count": null,
   "metadata": {},
   "outputs": [],
   "source": [
    "select_k_best = SelectKBest(score_func=f_regression, k=6)\n",
    "standard_scaler = StandardScaler()\n",
    "polynomial_features = PolynomialFeatures(degree=5)\n",
    "linear_regression = LinearRegression()\n",
    "\n",
    "steps = [\n",
    "    ('scaler', standard_scaler),\n",
    "    ('polynomial_features', polynomial_features),\n",
    "    ('select_k_best', select_k_best),\n",
    "    ('linear_regression', linear_regression),\n",
    "]\n",
    "\n",
    "model = Pipeline(steps=steps)\n",
    "model.fit(X=X, y=y)"
   ]
  },
  {
   "cell_type": "code",
   "execution_count": null,
   "metadata": {},
   "outputs": [],
   "source": [
    "%%timeit\n",
    "cv2 = RepeatedKFold(n_splits=5, n_repeats=10, random_state=1)\n",
    "scores = cross_val_score(estimator=model, X=X, y=y, scoring='r2', cv=cv2, n_jobs=-1)\n",
    "\n",
    "fig,ax = plt.subplots()\n",
    "ax.hist(scores);\n",
    "ax.set_xlabel('score')\n",
    "ax.set_ylabel('occurances')\n",
    "ax.set_title('Histogram over cross validations');"
   ]
  },
  {
   "cell_type": "code",
   "execution_count": null,
   "metadata": {},
   "outputs": [],
   "source": [
    "%%timeit\n",
    "\n",
    "cv2 = RepeatedKFold(n_splits=5, n_repeats=10, random_state=1)\n",
    "with joblib.parallel_backend('dask'):\n",
    "    scores = cross_val_score(estimator=model, X=X, y=y, scoring='r2', cv=cv2, n_jobs=-1)\n",
    "\n",
    "fig,ax = plt.subplots()\n",
    "ax.hist(scores);\n",
    "ax.set_xlabel('score')\n",
    "ax.set_ylabel('occurances')\n",
    "ax.set_title('Histogram over cross validations');"
   ]
  },
  {
   "cell_type": "code",
   "execution_count": null,
   "metadata": {},
   "outputs": [],
   "source": [
    "result = X.copy()\n",
    "result['y_true'] = y\n",
    "result['y_pred'] = model.predict(X=X)\n",
    "\n",
    "fig,axes=plt.subplots(ncols=len(X.columns))\n",
    "for x,ax in zip(X, [axes]):\n",
    "    result.plot(x=x, y='y_true', ax=ax, style='o', alpha=0.1)\n",
    "    result.plot(x=x, y='y_pred', ax=ax, style='.')\n",
    "    \n",
    "axes.set_ylabel(label_y)"
   ]
  },
  {
   "cell_type": "code",
   "execution_count": null,
   "metadata": {},
   "outputs": [],
   "source": [
    "from src.visualization.polynom import model_to_string,model_to_sympy\n",
    "features = X.columns\n",
    "print(model_to_string(model=model, feature_names=features))"
   ]
  },
  {
   "cell_type": "code",
   "execution_count": null,
   "metadata": {},
   "outputs": [],
   "source": [
    "features_latex = {\n",
    "    'Speed over ground (kts)' : r'V_og',\n",
    "    }\n",
    "latex_features = [features_latex[key] for key in features]\n",
    "\n",
    "eq = model_to_sympy(model=model, feature_names=latex_features, label='V')\n",
    "eq"
   ]
  },
  {
   "cell_type": "code",
   "execution_count": null,
   "metadata": {},
   "outputs": [],
   "source": []
  }
 ],
 "metadata": {
  "kernelspec": {
   "display_name": "Python 3",
   "language": "python",
   "name": "python3"
  },
  "language_info": {
   "codemirror_mode": {
    "name": "ipython",
    "version": 3
   },
   "file_extension": ".py",
   "mimetype": "text/x-python",
   "name": "python",
   "nbconvert_exporter": "python",
   "pygments_lexer": "ipython3",
   "version": "3.8.7"
  }
 },
 "nbformat": 4,
 "nbformat_minor": 4
}

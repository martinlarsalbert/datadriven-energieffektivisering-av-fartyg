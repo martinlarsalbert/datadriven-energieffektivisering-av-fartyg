{
 "cells": [
  {
   "cell_type": "markdown",
   "id": "1ac33cf8-3c02-40de-be04-0cd8b776d73d",
   "metadata": {},
   "source": [
    "## Short"
   ]
  },
  {
   "cell_type": "code",
   "execution_count": 5,
   "id": "5421cc3f-9b14-4ed6-a742-e5c386f91ea2",
   "metadata": {},
   "outputs": [],
   "source": [
    "import sys\n",
    "sys.path.append('../')\n",
    "import runner"
   ]
  },
  {
   "cell_type": "code",
   "execution_count": 6,
   "id": "8cc26a36-a07f-461d-9eff-9a75fd0af599",
   "metadata": {},
   "outputs": [
    {
     "name": "stderr",
     "output_type": "stream",
     "text": [
      "2021-06-17 14:17:58,567 - step:01.1_data_trip_id.ipynb\n",
      "2021-06-17 14:17:58,569 - Already run, skipping...\n",
      "2021-06-17 14:17:58,569 - step:02.1_trip_statistics.ipynb\n",
      "2021-06-17 14:17:58,570 - Already run, skipping...\n",
      "2021-06-17 14:17:58,570 - step:02.2_clean_trip_statistics.ipynb\n",
      "2021-06-17 14:17:58,570 - Already run, skipping...\n",
      "2021-06-17 14:17:58,571 - step:03.1_explore_trip_statistics.ipynb\n"
     ]
    },
    {
     "data": {
      "application/vnd.jupyter.widget-view+json": {
       "model_id": "c544b6a3fa9a46db8b643b7017555d2d",
       "version_major": 2,
       "version_minor": 0
      },
      "text/plain": [
       "Executing:   0%|          | 0/49 [00:00<?, ?cell/s]"
      ]
     },
     "metadata": {},
     "output_type": "display_data"
    },
    {
     "name": "stderr",
     "output_type": "stream",
     "text": [
      "2021-06-17 14:18:33,225 - step:03.2_explore_trip_statistics_map.ipynb\n"
     ]
    },
    {
     "data": {
      "application/vnd.jupyter.widget-view+json": {
       "model_id": "b97b4e4f187c4773858d8c8e0c7698e5",
       "version_major": 2,
       "version_minor": 0
      },
      "text/plain": [
       "Executing:   0%|          | 0/14 [00:00<?, ?cell/s]"
      ]
     },
     "metadata": {},
     "output_type": "display_data"
    },
    {
     "name": "stderr",
     "output_type": "stream",
     "text": [
      "2021-06-17 14:19:02,400 - step:04.1_explore_one_trip.ipynb\n"
     ]
    },
    {
     "data": {
      "application/vnd.jupyter.widget-view+json": {
       "model_id": "58f9ffee873e4cd09229547551261b53",
       "version_major": 2,
       "version_minor": 0
      },
      "text/plain": [
       "Executing:   0%|          | 0/27 [00:00<?, ?cell/s]"
      ]
     },
     "metadata": {},
     "output_type": "display_data"
    }
   ],
   "source": [
    "parameters = {\n",
    "        'name':'tycho_short_parquet',\n",
    "        'n_rows':None,\n",
    "    }\n",
    "\n",
    "runner.run_experiment(name='tycho_short_parquet', parameters=parameters)"
   ]
  },
  {
   "cell_type": "code",
   "execution_count": null,
   "id": "8c32abb0-dc72-4145-b7df-aed86cc32e61",
   "metadata": {},
   "outputs": [],
   "source": []
  }
 ],
 "metadata": {
  "kernelspec": {
   "display_name": "Python 3",
   "language": "python",
   "name": "python3"
  },
  "language_info": {
   "codemirror_mode": {
    "name": "ipython",
    "version": 3
   },
   "file_extension": ".py",
   "mimetype": "text/x-python",
   "name": "python",
   "nbconvert_exporter": "python",
   "pygments_lexer": "ipython3",
   "version": "3.8.10"
  }
 },
 "nbformat": 4,
 "nbformat_minor": 5
}

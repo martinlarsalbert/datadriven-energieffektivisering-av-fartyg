{
 "cells": [
  {
   "cell_type": "markdown",
   "id": "1ac33cf8-3c02-40de-be04-0cd8b776d73d",
   "metadata": {},
   "source": [
    "## Short"
   ]
  },
  {
   "cell_type": "code",
   "execution_count": 1,
   "id": "5421cc3f-9b14-4ed6-a742-e5c386f91ea2",
   "metadata": {},
   "outputs": [],
   "source": [
    "import sys\n",
    "sys.path.append('../')\n",
    "import runner"
   ]
  },
  {
   "cell_type": "code",
   "execution_count": 3,
   "id": "8cc26a36-a07f-461d-9eff-9a75fd0af599",
   "metadata": {},
   "outputs": [
    {
     "data": {
      "application/vnd.jupyter.widget-view+json": {
       "model_id": "fe99795200db436b8cca11b6437c9bde",
       "version_major": 2,
       "version_minor": 0
      },
      "text/plain": [
       "Executing:   0%|          | 0/16 [00:00<?, ?cell/s]"
      ]
     },
     "metadata": {},
     "output_type": "display_data"
    },
    {
     "data": {
      "application/vnd.jupyter.widget-view+json": {
       "model_id": "ecf4ea6381a342389cbaf886fadd7152",
       "version_major": 2,
       "version_minor": 0
      },
      "text/plain": [
       "Executing:   0%|          | 0/15 [00:00<?, ?cell/s]"
      ]
     },
     "metadata": {},
     "output_type": "display_data"
    },
    {
     "data": {
      "application/vnd.jupyter.widget-view+json": {
       "model_id": "b5581759cffe4d4ab8c040404e5d36b4",
       "version_major": 2,
       "version_minor": 0
      },
      "text/plain": [
       "Executing:   0%|          | 0/14 [00:00<?, ?cell/s]"
      ]
     },
     "metadata": {},
     "output_type": "display_data"
    },
    {
     "data": {
      "application/vnd.jupyter.widget-view+json": {
       "model_id": "b21a1f2ebd7a4d9a9cb3d646cc99e308",
       "version_major": 2,
       "version_minor": 0
      },
      "text/plain": [
       "Executing:   0%|          | 0/49 [00:00<?, ?cell/s]"
      ]
     },
     "metadata": {},
     "output_type": "display_data"
    }
   ],
   "source": [
    "parameters = {\n",
    "        'name':'tycho_short_parquet',\n",
    "        'n_rows':None,\n",
    "    }\n",
    "\n",
    "runner.run_experiment(name='tycho_short_parquet', parameters=parameters)"
   ]
  },
  {
   "cell_type": "code",
   "execution_count": null,
   "id": "8c32abb0-dc72-4145-b7df-aed86cc32e61",
   "metadata": {},
   "outputs": [],
   "source": []
  }
 ],
 "metadata": {
  "kernelspec": {
   "display_name": "Python 3",
   "language": "python",
   "name": "python3"
  },
  "language_info": {
   "codemirror_mode": {
    "name": "ipython",
    "version": 3
   },
   "file_extension": ".py",
   "mimetype": "text/x-python",
   "name": "python",
   "nbconvert_exporter": "python",
   "pygments_lexer": "ipython3",
   "version": "3.8.10"
  }
 },
 "nbformat": 4,
 "nbformat_minor": 5
}

{
 "cells": [
  {
   "cell_type": "markdown",
   "metadata": {},
   "source": [
    "# Data extraction of trips using Dask dataframe"
   ]
  },
  {
   "cell_type": "markdown",
   "metadata": {},
   "source": [
    "# Purpose\n",
    "As a first step the time series data will be divided into trips, as a data reduction. Energy consumption can be calculated for each trip together with other aggregated quantities such as mean values, standard deviations etc. This will be used to analyze how much trips differ from each other over the year.\n",
    "\n",
    "But the file is larger than the memory can take so this solution uses a Dask dataframe instead."
   ]
  },
  {
   "cell_type": "markdown",
   "metadata": {},
   "source": [
    "# Methodology\n",
    "* Loop over the dask dataframe partitions and number the trips, save to partquet in each loop."
   ]
  },
  {
   "cell_type": "markdown",
   "metadata": {},
   "source": [
    "# Setup"
   ]
  },
  {
   "cell_type": "code",
   "execution_count": 1,
   "metadata": {
    "gather": {
     "logged": 1618500219438
    }
   },
   "outputs": [],
   "source": [
    "#%load imports.py\n",
    "%matplotlib inline\n",
    "%load_ext autoreload\n",
    "%autoreload 2\n",
    "\n",
    "import numpy as np\n",
    "import pandas as pd\n",
    "import matplotlib.pyplot as plt\n",
    "import matplotlib.pyplot as plt\n",
    "plt.rcParams[\"figure.figsize\"] = (20,3)\n",
    "\n",
    "#import seaborn as sns\n",
    "import os\n",
    "from collections import OrderedDict\n",
    "\n",
    "from IPython.display import display\n",
    "\n",
    "pd.options.display.max_rows = 999\n",
    "pd.options.display.max_columns = 999\n",
    "pd.set_option(\"display.max_columns\", None)\n",
    "\n",
    "import folium\n",
    "import plotly.express as px\n",
    "import plotly.graph_objects as go\n",
    "\n",
    "import sys\n",
    "import os\n",
    "sys.path.append('../../../')\n",
    "from src.visualization import visualize\n",
    "\n",
    "sys.path.append('../../../src/models/pipelines/longterm/scripts/prepdata/trip')\n",
    "import prepare_dataset, trips, trip_id\n",
    "\n",
    "import scipy.integrate\n",
    "import seaborn as sns\n",
    "\n",
    "import pyarrow as pa\n",
    "import pyarrow.parquet as pq\n"
   ]
  },
  {
   "cell_type": "markdown",
   "metadata": {},
   "source": [
    "## Parameters"
   ]
  },
  {
   "cell_type": "code",
   "execution_count": 2,
   "metadata": {
    "tags": [
     "parameters"
    ]
   },
   "outputs": [],
   "source": [
    "name='tycho_short_parquet'\n",
    "n_rows=None"
   ]
  },
  {
   "cell_type": "code",
   "execution_count": 3,
   "metadata": {},
   "outputs": [
    {
     "data": {
      "text/html": [
       "<table style=\"border: 2px solid white;\">\n",
       "<tr>\n",
       "<td style=\"vertical-align: top; border: 0px solid white\">\n",
       "<h3 style=\"text-align: left;\">Client</h3>\n",
       "<ul style=\"text-align: left; list-style: none; margin: 0; padding: 0;\">\n",
       "  <li><b>Scheduler: </b>tcp://127.0.0.1:52592</li>\n",
       "  <li><b>Dashboard: </b><a href='http://127.0.0.1:8787/status' target='_blank'>http://127.0.0.1:8787/status</a></li>\n",
       "</ul>\n",
       "</td>\n",
       "<td style=\"vertical-align: top; border: 0px solid white\">\n",
       "<h3 style=\"text-align: left;\">Cluster</h3>\n",
       "<ul style=\"text-align: left; list-style:none; margin: 0; padding: 0;\">\n",
       "  <li><b>Workers: </b>4</li>\n",
       "  <li><b>Cores: </b>4</li>\n",
       "  <li><b>Memory: </b>7.45 GiB</li>\n",
       "</ul>\n",
       "</td>\n",
       "</tr>\n",
       "</table>"
      ],
      "text/plain": [
       "<Client: 'tcp://127.0.0.1:52592' processes=4 threads=4, memory=7.45 GiB>"
      ]
     },
     "execution_count": 3,
     "metadata": {},
     "output_type": "execute_result"
    }
   ],
   "source": [
    "from dask.distributed import Client, progress, TimeoutError\n",
    "client = Client(n_workers=4, threads_per_worker=1, memory_limit='2GB')\n",
    "client"
   ]
  },
  {
   "cell_type": "code",
   "execution_count": 4,
   "metadata": {},
   "outputs": [
    {
     "name": "stderr",
     "output_type": "stream",
     "text": [
      "Note, we have launched a browser for you to login. For old experience with device code, use \"az login --use-device-code\"\n"
     ]
    },
    {
     "name": "stdout",
     "output_type": "stream",
     "text": [
      "Performing interactive authentication. Please follow the instructions on the terminal.\n",
      "You have logged in. Now let us find all the subscriptions to which you have access...\n",
      "Interactive authentication successfully completed.\n"
     ]
    },
    {
     "name": "stderr",
     "output_type": "stream",
     "text": [
      "Method filter: This is an experimental method, and may change at any time. Please see https://aka.ms/azuremlexperimental for more information.\n",
      "Method to_dask_dataframe: This is an experimental method, and may change at any time. Please see https://aka.ms/azuremlexperimental for more information.\n"
     ]
    }
   ],
   "source": [
    "df = prepare_dataset.get_dask(name=name)"
   ]
  },
  {
   "cell_type": "code",
   "execution_count": 5,
   "metadata": {},
   "outputs": [
    {
     "data": {
      "text/html": [
       "<div>\n",
       "<style scoped>\n",
       "    .dataframe tbody tr th:only-of-type {\n",
       "        vertical-align: middle;\n",
       "    }\n",
       "\n",
       "    .dataframe tbody tr th {\n",
       "        vertical-align: top;\n",
       "    }\n",
       "\n",
       "    .dataframe thead th {\n",
       "        text-align: right;\n",
       "    }\n",
       "</style>\n",
       "<table border=\"1\" class=\"dataframe\">\n",
       "  <thead>\n",
       "    <tr style=\"text-align: right;\">\n",
       "      <th></th>\n",
       "      <th>Timestamp [UTC]</th>\n",
       "      <th>Latitude (deg)</th>\n",
       "      <th>Longitude (deg)</th>\n",
       "      <th>Speed over ground (kts)</th>\n",
       "      <th>Heading (deg)</th>\n",
       "      <th>Power EM Thruster 1 (kW)</th>\n",
       "      <th>Power EM Thruster 2 (kW)</th>\n",
       "      <th>Power EM Thruster 3 (kW)</th>\n",
       "      <th>Power EM Thruster 4 (kW)</th>\n",
       "      <th>Power EM Thruster Total (kW)</th>\n",
       "      <th>Course over ground (deg)</th>\n",
       "      <th>Sin PM1 ()</th>\n",
       "      <th>Sin PM2 ()</th>\n",
       "      <th>Sin PM3 ()</th>\n",
       "      <th>Sin PM4 ()</th>\n",
       "      <th>Cos PM1 ()</th>\n",
       "      <th>Cos PM2 ()</th>\n",
       "      <th>Cos PM3 ()</th>\n",
       "      <th>Cos PM4 ()</th>\n",
       "      <th>Power heeling (kW)</th>\n",
       "      <th>Power Pitch Thruster 1 (kW)</th>\n",
       "      <th>Power Pitch Thruster 2 (kW)</th>\n",
       "      <th>Power Pitch Thruster 3 (kW)</th>\n",
       "      <th>Power Pitch Thruster 4 (kW)</th>\n",
       "      <th>Power Steer Thruster 1 (kW)</th>\n",
       "      <th>Power Steer Thruster 2 (kW)</th>\n",
       "      <th>Power Steer Thruster 3 (kW)</th>\n",
       "      <th>Power Steer Thruster 4 (kW)</th>\n",
       "      <th>Power Propulsion Total (kW)</th>\n",
       "      <th>Power hotel Total (kW)</th>\n",
       "    </tr>\n",
       "  </thead>\n",
       "  <tbody>\n",
       "    <tr>\n",
       "      <th>0</th>\n",
       "      <td>2020-01-01 08:31:19+00:00</td>\n",
       "      <td>56.0331</td>\n",
       "      <td>12.61723</td>\n",
       "      <td>0.42</td>\n",
       "      <td>77.7</td>\n",
       "      <td>146.0</td>\n",
       "      <td>123.0</td>\n",
       "      <td>148.0</td>\n",
       "      <td>164.0</td>\n",
       "      <td>581.0</td>\n",
       "      <td>89.04</td>\n",
       "      <td>-0.20230</td>\n",
       "      <td>-0.15491</td>\n",
       "      <td>0.01044</td>\n",
       "      <td>-0.01880</td>\n",
       "      <td>-0.98050</td>\n",
       "      <td>-0.99164</td>\n",
       "      <td>-1.0</td>\n",
       "      <td>-0.99954</td>\n",
       "      <td>0.0</td>\n",
       "      <td>None</td>\n",
       "      <td>None</td>\n",
       "      <td>None</td>\n",
       "      <td>None</td>\n",
       "      <td>None</td>\n",
       "      <td>None</td>\n",
       "      <td>None</td>\n",
       "      <td>None</td>\n",
       "      <td>581.0</td>\n",
       "      <td>None</td>\n",
       "    </tr>\n",
       "    <tr>\n",
       "      <th>1</th>\n",
       "      <td>2020-01-01 08:31:20+00:00</td>\n",
       "      <td>56.0331</td>\n",
       "      <td>12.61723</td>\n",
       "      <td>0.40</td>\n",
       "      <td>77.6</td>\n",
       "      <td>164.0</td>\n",
       "      <td>166.0</td>\n",
       "      <td>150.0</td>\n",
       "      <td>162.0</td>\n",
       "      <td>642.0</td>\n",
       "      <td>86.49</td>\n",
       "      <td>-0.10016</td>\n",
       "      <td>-0.09088</td>\n",
       "      <td>0.02536</td>\n",
       "      <td>-0.00851</td>\n",
       "      <td>-0.98849</td>\n",
       "      <td>-0.99707</td>\n",
       "      <td>-1.0</td>\n",
       "      <td>-0.99966</td>\n",
       "      <td>0.0</td>\n",
       "      <td>None</td>\n",
       "      <td>None</td>\n",
       "      <td>None</td>\n",
       "      <td>None</td>\n",
       "      <td>None</td>\n",
       "      <td>None</td>\n",
       "      <td>None</td>\n",
       "      <td>None</td>\n",
       "      <td>642.0</td>\n",
       "      <td>None</td>\n",
       "    </tr>\n",
       "    <tr>\n",
       "      <th>2</th>\n",
       "      <td>2020-01-01 08:31:21+00:00</td>\n",
       "      <td>56.0331</td>\n",
       "      <td>12.61723</td>\n",
       "      <td>0.48</td>\n",
       "      <td>77.5</td>\n",
       "      <td>171.0</td>\n",
       "      <td>177.0</td>\n",
       "      <td>146.0</td>\n",
       "      <td>162.0</td>\n",
       "      <td>656.0</td>\n",
       "      <td>84.19</td>\n",
       "      <td>-0.07849</td>\n",
       "      <td>-0.02191</td>\n",
       "      <td>0.02719</td>\n",
       "      <td>-0.00839</td>\n",
       "      <td>-0.99469</td>\n",
       "      <td>-0.99997</td>\n",
       "      <td>-1.0</td>\n",
       "      <td>-0.99969</td>\n",
       "      <td>0.0</td>\n",
       "      <td>None</td>\n",
       "      <td>None</td>\n",
       "      <td>None</td>\n",
       "      <td>None</td>\n",
       "      <td>None</td>\n",
       "      <td>None</td>\n",
       "      <td>None</td>\n",
       "      <td>None</td>\n",
       "      <td>656.0</td>\n",
       "      <td>None</td>\n",
       "    </tr>\n",
       "    <tr>\n",
       "      <th>3</th>\n",
       "      <td>2020-01-01 08:31:22+00:00</td>\n",
       "      <td>56.0331</td>\n",
       "      <td>12.61724</td>\n",
       "      <td>0.56</td>\n",
       "      <td>77.4</td>\n",
       "      <td>182.0</td>\n",
       "      <td>186.0</td>\n",
       "      <td>152.0</td>\n",
       "      <td>159.0</td>\n",
       "      <td>679.0</td>\n",
       "      <td>81.75</td>\n",
       "      <td>-0.05557</td>\n",
       "      <td>0.00128</td>\n",
       "      <td>0.02710</td>\n",
       "      <td>-0.00848</td>\n",
       "      <td>-0.99591</td>\n",
       "      <td>-0.99997</td>\n",
       "      <td>-1.0</td>\n",
       "      <td>-0.99969</td>\n",
       "      <td>0.0</td>\n",
       "      <td>None</td>\n",
       "      <td>None</td>\n",
       "      <td>None</td>\n",
       "      <td>None</td>\n",
       "      <td>None</td>\n",
       "      <td>None</td>\n",
       "      <td>None</td>\n",
       "      <td>None</td>\n",
       "      <td>679.0</td>\n",
       "      <td>None</td>\n",
       "    </tr>\n",
       "    <tr>\n",
       "      <th>4</th>\n",
       "      <td>2020-01-01 08:31:23+00:00</td>\n",
       "      <td>56.0331</td>\n",
       "      <td>12.61724</td>\n",
       "      <td>0.56</td>\n",
       "      <td>77.3</td>\n",
       "      <td>203.0</td>\n",
       "      <td>205.0</td>\n",
       "      <td>150.0</td>\n",
       "      <td>158.0</td>\n",
       "      <td>716.0</td>\n",
       "      <td>80.01</td>\n",
       "      <td>-0.04800</td>\n",
       "      <td>0.00131</td>\n",
       "      <td>0.02771</td>\n",
       "      <td>-0.00830</td>\n",
       "      <td>-0.99615</td>\n",
       "      <td>-0.99994</td>\n",
       "      <td>-1.0</td>\n",
       "      <td>-0.99954</td>\n",
       "      <td>0.0</td>\n",
       "      <td>None</td>\n",
       "      <td>None</td>\n",
       "      <td>None</td>\n",
       "      <td>None</td>\n",
       "      <td>None</td>\n",
       "      <td>None</td>\n",
       "      <td>None</td>\n",
       "      <td>None</td>\n",
       "      <td>716.0</td>\n",
       "      <td>None</td>\n",
       "    </tr>\n",
       "  </tbody>\n",
       "</table>\n",
       "</div>"
      ],
      "text/plain": [
       "             Timestamp [UTC]  Latitude (deg)  Longitude (deg)  \\\n",
       "0  2020-01-01 08:31:19+00:00         56.0331         12.61723   \n",
       "1  2020-01-01 08:31:20+00:00         56.0331         12.61723   \n",
       "2  2020-01-01 08:31:21+00:00         56.0331         12.61723   \n",
       "3  2020-01-01 08:31:22+00:00         56.0331         12.61724   \n",
       "4  2020-01-01 08:31:23+00:00         56.0331         12.61724   \n",
       "\n",
       "   Speed over ground (kts)  Heading (deg)  Power EM Thruster 1 (kW)  \\\n",
       "0                     0.42           77.7                     146.0   \n",
       "1                     0.40           77.6                     164.0   \n",
       "2                     0.48           77.5                     171.0   \n",
       "3                     0.56           77.4                     182.0   \n",
       "4                     0.56           77.3                     203.0   \n",
       "\n",
       "   Power EM Thruster 2 (kW)  Power EM Thruster 3 (kW)  \\\n",
       "0                     123.0                     148.0   \n",
       "1                     166.0                     150.0   \n",
       "2                     177.0                     146.0   \n",
       "3                     186.0                     152.0   \n",
       "4                     205.0                     150.0   \n",
       "\n",
       "   Power EM Thruster 4 (kW)  Power EM Thruster Total (kW)  \\\n",
       "0                     164.0                         581.0   \n",
       "1                     162.0                         642.0   \n",
       "2                     162.0                         656.0   \n",
       "3                     159.0                         679.0   \n",
       "4                     158.0                         716.0   \n",
       "\n",
       "   Course over ground (deg)  Sin PM1 ()  Sin PM2 ()  Sin PM3 ()  Sin PM4 ()  \\\n",
       "0                     89.04    -0.20230    -0.15491     0.01044    -0.01880   \n",
       "1                     86.49    -0.10016    -0.09088     0.02536    -0.00851   \n",
       "2                     84.19    -0.07849    -0.02191     0.02719    -0.00839   \n",
       "3                     81.75    -0.05557     0.00128     0.02710    -0.00848   \n",
       "4                     80.01    -0.04800     0.00131     0.02771    -0.00830   \n",
       "\n",
       "   Cos PM1 ()  Cos PM2 ()  Cos PM3 ()  Cos PM4 ()  Power heeling (kW)  \\\n",
       "0    -0.98050    -0.99164        -1.0    -0.99954                 0.0   \n",
       "1    -0.98849    -0.99707        -1.0    -0.99966                 0.0   \n",
       "2    -0.99469    -0.99997        -1.0    -0.99969                 0.0   \n",
       "3    -0.99591    -0.99997        -1.0    -0.99969                 0.0   \n",
       "4    -0.99615    -0.99994        -1.0    -0.99954                 0.0   \n",
       "\n",
       "  Power Pitch Thruster 1 (kW) Power Pitch Thruster 2 (kW)  \\\n",
       "0                        None                        None   \n",
       "1                        None                        None   \n",
       "2                        None                        None   \n",
       "3                        None                        None   \n",
       "4                        None                        None   \n",
       "\n",
       "  Power Pitch Thruster 3 (kW) Power Pitch Thruster 4 (kW)  \\\n",
       "0                        None                        None   \n",
       "1                        None                        None   \n",
       "2                        None                        None   \n",
       "3                        None                        None   \n",
       "4                        None                        None   \n",
       "\n",
       "  Power Steer Thruster 1 (kW) Power Steer Thruster 2 (kW)  \\\n",
       "0                        None                        None   \n",
       "1                        None                        None   \n",
       "2                        None                        None   \n",
       "3                        None                        None   \n",
       "4                        None                        None   \n",
       "\n",
       "  Power Steer Thruster 3 (kW) Power Steer Thruster 4 (kW)  \\\n",
       "0                        None                        None   \n",
       "1                        None                        None   \n",
       "2                        None                        None   \n",
       "3                        None                        None   \n",
       "4                        None                        None   \n",
       "\n",
       "   Power Propulsion Total (kW) Power hotel Total (kW)  \n",
       "0                        581.0                   None  \n",
       "1                        642.0                   None  \n",
       "2                        656.0                   None  \n",
       "3                        679.0                   None  \n",
       "4                        716.0                   None  "
      ]
     },
     "execution_count": 5,
     "metadata": {},
     "output_type": "execute_result"
    }
   ],
   "source": [
    "df.head()"
   ]
  },
  {
   "cell_type": "code",
   "execution_count": 6,
   "metadata": {},
   "outputs": [
    {
     "name": "stderr",
     "output_type": "stream",
     "text": [
      "Method filter: This is an experimental method, and may change at any time. Please see https://aka.ms/azuremlexperimental for more information.\n",
      "Method to_dask_dataframe: This is an experimental method, and may change at any time. Please see https://aka.ms/azuremlexperimental for more information.\n"
     ]
    }
   ],
   "source": [
    "ds = prepare_dataset.get_dataset(name=name, n_rows=n_rows)\n",
    "\n",
    "df = ds.to_dask_dataframe(sample_size=1000000, dtypes=None, on_error='null', out_of_range_datetime='null')"
   ]
  },
  {
   "cell_type": "code",
   "execution_count": 7,
   "metadata": {},
   "outputs": [
    {
     "data": {
      "text/plain": [
       "5"
      ]
     },
     "execution_count": 7,
     "metadata": {},
     "output_type": "execute_result"
    }
   ],
   "source": [
    "df.npartitions"
   ]
  },
  {
   "cell_type": "code",
   "execution_count": 8,
   "metadata": {},
   "outputs": [],
   "source": [
    "output_path ='id.parquet'\n",
    "trip_id.save_numbered_trips(df=df, output_path=output_path)"
   ]
  },
  {
   "cell_type": "code",
   "execution_count": 9,
   "metadata": {},
   "outputs": [],
   "source": [
    "client.close()"
   ]
  },
  {
   "cell_type": "code",
   "execution_count": null,
   "metadata": {},
   "outputs": [],
   "source": []
  }
 ],
 "metadata": {
  "kernel_info": {
   "name": "python38-azureml"
  },
  "kernelspec": {
   "display_name": "Python 3",
   "language": "python",
   "name": "python3"
  },
  "language_info": {
   "codemirror_mode": {
    "name": "ipython",
    "version": 3
   },
   "file_extension": ".py",
   "mimetype": "text/x-python",
   "name": "python",
   "nbconvert_exporter": "python",
   "pygments_lexer": "ipython3",
   "version": "3.8.10"
  },
  "metadata": {
   "interpreter": {
    "hash": "1af9919311219ec039f6aa4a644c204a4b4e1e8e730770ba7f65632752293606"
   }
  },
  "microsoft": {
   "host": {
    "AzureML": {
     "notebookHasBeenCompleted": true
    }
   }
  },
  "nteract": {
   "version": "nteract-front-end@1.0.0"
  }
 },
 "nbformat": 4,
 "nbformat_minor": 4
}

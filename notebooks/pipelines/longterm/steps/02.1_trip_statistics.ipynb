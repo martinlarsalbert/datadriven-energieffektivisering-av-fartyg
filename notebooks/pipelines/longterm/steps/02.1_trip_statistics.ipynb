{
 "cells": [
  {
   "cell_type": "markdown",
   "metadata": {},
   "source": [
    "# Data extraction of trips using Dask dataframe"
   ]
  },
  {
   "cell_type": "markdown",
   "metadata": {},
   "source": [
    "# Purpose\n",
    "As a first step the time series data will be divided into trips, as a data reduction. Energy consumption can be calculated for each trip together with other aggregated quantities such as mean values, standard deviations etc. This will be used to analyze how much trips differ from each other over the year.\n",
    "\n",
    "But the file is larger than the memory can take so this solution uses a Dask dataframe instead."
   ]
  },
  {
   "cell_type": "markdown",
   "metadata": {},
   "source": [
    "# Methodology\n",
    "* Loop over the dask dataframe partitions and number the trips, save to partquet in each loop."
   ]
  },
  {
   "cell_type": "markdown",
   "metadata": {},
   "source": [
    "# Setup"
   ]
  },
  {
   "cell_type": "code",
   "execution_count": 1,
   "metadata": {
    "gather": {
     "logged": 1618500219438
    }
   },
   "outputs": [],
   "source": [
    "#%load imports.py\n",
    "%matplotlib inline\n",
    "%load_ext autoreload\n",
    "%autoreload 2\n",
    "\n",
    "import numpy as np\n",
    "import pandas as pd\n",
    "import matplotlib.pyplot as plt\n",
    "import matplotlib.pyplot as plt\n",
    "plt.rcParams[\"figure.figsize\"] = (20,3)\n",
    "\n",
    "#import seaborn as sns\n",
    "import os\n",
    "from collections import OrderedDict\n",
    "\n",
    "from IPython.display import display\n",
    "\n",
    "pd.options.display.max_rows = 999\n",
    "pd.options.display.max_columns = 999\n",
    "pd.set_option(\"display.max_columns\", None)\n",
    "\n",
    "import folium\n",
    "import plotly.express as px\n",
    "import plotly.graph_objects as go\n",
    "\n",
    "import sys\n",
    "import os\n",
    "sys.path.append('../../../')\n",
    "from src.visualization import visualize\n",
    "\n",
    "sys.path.append('../../../src/models/pipelines/longterm/scripts/prepdata/trip_statistics')\n",
    "import trip_statistics\n",
    "\n",
    "import scipy.integrate\n",
    "import seaborn as sns\n",
    "\n",
    "import pyarrow as pa\n",
    "import pyarrow.parquet as pq\n",
    "import dask.dataframe"
   ]
  },
  {
   "cell_type": "markdown",
   "metadata": {},
   "source": [
    "## Parameters"
   ]
  },
  {
   "cell_type": "code",
   "execution_count": 2,
   "metadata": {
    "tags": [
     "parameters"
    ]
   },
   "outputs": [],
   "source": [
    "name='tycho_short_parquet_id'"
   ]
  },
  {
   "cell_type": "code",
   "execution_count": 3,
   "metadata": {},
   "outputs": [
    {
     "data": {
      "text/html": [
       "<table style=\"border: 2px solid white;\">\n",
       "<tr>\n",
       "<td style=\"vertical-align: top; border: 0px solid white\">\n",
       "<h3 style=\"text-align: left;\">Client</h3>\n",
       "<ul style=\"text-align: left; list-style: none; margin: 0; padding: 0;\">\n",
       "  <li><b>Scheduler: </b>tcp://127.0.0.1:52835</li>\n",
       "  <li><b>Dashboard: </b><a href='http://127.0.0.1:8787/status' target='_blank'>http://127.0.0.1:8787/status</a></li>\n",
       "</ul>\n",
       "</td>\n",
       "<td style=\"vertical-align: top; border: 0px solid white\">\n",
       "<h3 style=\"text-align: left;\">Cluster</h3>\n",
       "<ul style=\"text-align: left; list-style:none; margin: 0; padding: 0;\">\n",
       "  <li><b>Workers: </b>4</li>\n",
       "  <li><b>Cores: </b>4</li>\n",
       "  <li><b>Memory: </b>7.45 GiB</li>\n",
       "</ul>\n",
       "</td>\n",
       "</tr>\n",
       "</table>"
      ],
      "text/plain": [
       "<Client: 'tcp://127.0.0.1:52835' processes=4 threads=4, memory=7.45 GiB>"
      ]
     },
     "execution_count": 3,
     "metadata": {},
     "output_type": "execute_result"
    }
   ],
   "source": [
    "from dask.distributed import Client, progress, TimeoutError\n",
    "client = Client(n_workers=4, threads_per_worker=1, memory_limit='2GB')\n",
    "client"
   ]
  },
  {
   "cell_type": "code",
   "execution_count": 4,
   "metadata": {},
   "outputs": [],
   "source": [
    "file_path = f'{name}.parquet'\n",
    "df = dask.dataframe.read_parquet(file_path)"
   ]
  },
  {
   "cell_type": "code",
   "execution_count": 5,
   "metadata": {},
   "outputs": [],
   "source": [
    "path = f'{name}_statistics.parquet'\n",
    "df_statistics = trip_statistics.process(df=df, path=path)"
   ]
  },
  {
   "cell_type": "code",
   "execution_count": 6,
   "metadata": {},
   "outputs": [
    {
     "data": {
      "text/html": [
       "<div>\n",
       "<style scoped>\n",
       "    .dataframe tbody tr th:only-of-type {\n",
       "        vertical-align: middle;\n",
       "    }\n",
       "\n",
       "    .dataframe tbody tr th {\n",
       "        vertical-align: top;\n",
       "    }\n",
       "\n",
       "    .dataframe thead th {\n",
       "        text-align: right;\n",
       "    }\n",
       "</style>\n",
       "<table border=\"1\" class=\"dataframe\">\n",
       "  <thead>\n",
       "    <tr style=\"text-align: right;\">\n",
       "      <th></th>\n",
       "      <th>latitude</th>\n",
       "      <th>longitude</th>\n",
       "      <th>heading</th>\n",
       "      <th>power_em_thruster_1</th>\n",
       "      <th>power_em_thruster_2</th>\n",
       "      <th>power_em_thruster_3</th>\n",
       "      <th>power_em_thruster_4</th>\n",
       "      <th>power_em_thruster_total</th>\n",
       "      <th>cog</th>\n",
       "      <th>sin_pm1</th>\n",
       "      <th>sin_pm2</th>\n",
       "      <th>sin_pm3</th>\n",
       "      <th>sin_pm4</th>\n",
       "      <th>cos_pm1</th>\n",
       "      <th>cos_pm2</th>\n",
       "      <th>cos_pm3</th>\n",
       "      <th>cos_pm4</th>\n",
       "      <th>power_heeling</th>\n",
       "      <th>sog</th>\n",
       "      <th>delta_1</th>\n",
       "      <th>delta_2</th>\n",
       "      <th>delta_3</th>\n",
       "      <th>delta_4</th>\n",
       "      <th>trip_no</th>\n",
       "      <th>trip_time</th>\n",
       "    </tr>\n",
       "    <tr>\n",
       "      <th>trip_no</th>\n",
       "      <th></th>\n",
       "      <th></th>\n",
       "      <th></th>\n",
       "      <th></th>\n",
       "      <th></th>\n",
       "      <th></th>\n",
       "      <th></th>\n",
       "      <th></th>\n",
       "      <th></th>\n",
       "      <th></th>\n",
       "      <th></th>\n",
       "      <th></th>\n",
       "      <th></th>\n",
       "      <th></th>\n",
       "      <th></th>\n",
       "      <th></th>\n",
       "      <th></th>\n",
       "      <th></th>\n",
       "      <th></th>\n",
       "      <th></th>\n",
       "      <th></th>\n",
       "      <th></th>\n",
       "      <th></th>\n",
       "      <th></th>\n",
       "      <th></th>\n",
       "    </tr>\n",
       "  </thead>\n",
       "  <tbody>\n",
       "    <tr>\n",
       "      <th>3.0</th>\n",
       "      <td>56.037121</td>\n",
       "      <td>12.657407</td>\n",
       "      <td>66.003030</td>\n",
       "      <td>384.353535</td>\n",
       "      <td>403.802571</td>\n",
       "      <td>356.265381</td>\n",
       "      <td>348.166208</td>\n",
       "      <td>1492.587695</td>\n",
       "      <td>72.778990</td>\n",
       "      <td>0.006538</td>\n",
       "      <td>0.041393</td>\n",
       "      <td>-0.123441</td>\n",
       "      <td>-0.077197</td>\n",
       "      <td>-0.711043</td>\n",
       "      <td>-0.712979</td>\n",
       "      <td>-0.758449</td>\n",
       "      <td>-0.755415</td>\n",
       "      <td>2.035813</td>\n",
       "      <td>4.428171</td>\n",
       "      <td>0.139468</td>\n",
       "      <td>0.170051</td>\n",
       "      <td>-0.223215</td>\n",
       "      <td>-0.189404</td>\n",
       "      <td>3.0</td>\n",
       "      <td>544.000918</td>\n",
       "    </tr>\n",
       "    <tr>\n",
       "      <th>5.0</th>\n",
       "      <td>56.037667</td>\n",
       "      <td>12.658731</td>\n",
       "      <td>66.705934</td>\n",
       "      <td>408.187609</td>\n",
       "      <td>436.029668</td>\n",
       "      <td>358.720768</td>\n",
       "      <td>348.050611</td>\n",
       "      <td>1550.988656</td>\n",
       "      <td>72.043185</td>\n",
       "      <td>0.009410</td>\n",
       "      <td>0.043116</td>\n",
       "      <td>-0.013878</td>\n",
       "      <td>0.039514</td>\n",
       "      <td>-0.657692</td>\n",
       "      <td>-0.658992</td>\n",
       "      <td>-0.696761</td>\n",
       "      <td>-0.695680</td>\n",
       "      <td>5.315009</td>\n",
       "      <td>4.270926</td>\n",
       "      <td>0.108890</td>\n",
       "      <td>0.160508</td>\n",
       "      <td>0.045390</td>\n",
       "      <td>0.016251</td>\n",
       "      <td>5.0</td>\n",
       "      <td>572.500000</td>\n",
       "    </tr>\n",
       "    <tr>\n",
       "      <th>10.0</th>\n",
       "      <td>56.035085</td>\n",
       "      <td>12.653924</td>\n",
       "      <td>79.800967</td>\n",
       "      <td>480.036907</td>\n",
       "      <td>510.279438</td>\n",
       "      <td>501.637083</td>\n",
       "      <td>473.816344</td>\n",
       "      <td>1965.769772</td>\n",
       "      <td>254.918330</td>\n",
       "      <td>0.055449</td>\n",
       "      <td>0.152862</td>\n",
       "      <td>0.099324</td>\n",
       "      <td>0.088388</td>\n",
       "      <td>0.771472</td>\n",
       "      <td>0.780358</td>\n",
       "      <td>0.713399</td>\n",
       "      <td>0.717055</td>\n",
       "      <td>1.521968</td>\n",
       "      <td>4.374468</td>\n",
       "      <td>-1.598657</td>\n",
       "      <td>2.316994</td>\n",
       "      <td>1.885320</td>\n",
       "      <td>1.212720</td>\n",
       "      <td>10.0</td>\n",
       "      <td>568.500000</td>\n",
       "    </tr>\n",
       "    <tr>\n",
       "      <th>15.0</th>\n",
       "      <td>56.036816</td>\n",
       "      <td>12.656966</td>\n",
       "      <td>66.760370</td>\n",
       "      <td>395.350926</td>\n",
       "      <td>417.489815</td>\n",
       "      <td>373.098148</td>\n",
       "      <td>371.552778</td>\n",
       "      <td>1557.491667</td>\n",
       "      <td>73.650981</td>\n",
       "      <td>-0.029059</td>\n",
       "      <td>0.000641</td>\n",
       "      <td>-0.110686</td>\n",
       "      <td>-0.053767</td>\n",
       "      <td>-0.740453</td>\n",
       "      <td>-0.743191</td>\n",
       "      <td>-0.761008</td>\n",
       "      <td>-0.758853</td>\n",
       "      <td>0.138889</td>\n",
       "      <td>4.503771</td>\n",
       "      <td>-0.176034</td>\n",
       "      <td>-0.133500</td>\n",
       "      <td>-0.202908</td>\n",
       "      <td>-0.273004</td>\n",
       "      <td>15.0</td>\n",
       "      <td>539.500000</td>\n",
       "    </tr>\n",
       "    <tr>\n",
       "      <th>19.0</th>\n",
       "      <td>56.037421</td>\n",
       "      <td>12.656943</td>\n",
       "      <td>67.862407</td>\n",
       "      <td>444.539815</td>\n",
       "      <td>476.281481</td>\n",
       "      <td>414.644444</td>\n",
       "      <td>405.754630</td>\n",
       "      <td>1741.220370</td>\n",
       "      <td>72.709019</td>\n",
       "      <td>-0.020574</td>\n",
       "      <td>0.010590</td>\n",
       "      <td>-0.239037</td>\n",
       "      <td>-0.178825</td>\n",
       "      <td>-0.638910</td>\n",
       "      <td>-0.642411</td>\n",
       "      <td>-0.762249</td>\n",
       "      <td>-0.757678</td>\n",
       "      <td>4.821296</td>\n",
       "      <td>4.524063</td>\n",
       "      <td>0.201561</td>\n",
       "      <td>0.248450</td>\n",
       "      <td>-0.360110</td>\n",
       "      <td>-0.301560</td>\n",
       "      <td>19.0</td>\n",
       "      <td>539.519444</td>\n",
       "    </tr>\n",
       "  </tbody>\n",
       "</table>\n",
       "</div>"
      ],
      "text/plain": [
       "          latitude  longitude    heading  power_em_thruster_1  \\\n",
       "trip_no                                                         \n",
       "3.0      56.037121  12.657407  66.003030           384.353535   \n",
       "5.0      56.037667  12.658731  66.705934           408.187609   \n",
       "10.0     56.035085  12.653924  79.800967           480.036907   \n",
       "15.0     56.036816  12.656966  66.760370           395.350926   \n",
       "19.0     56.037421  12.656943  67.862407           444.539815   \n",
       "\n",
       "         power_em_thruster_2  power_em_thruster_3  power_em_thruster_4  \\\n",
       "trip_no                                                                  \n",
       "3.0               403.802571           356.265381           348.166208   \n",
       "5.0               436.029668           358.720768           348.050611   \n",
       "10.0              510.279438           501.637083           473.816344   \n",
       "15.0              417.489815           373.098148           371.552778   \n",
       "19.0              476.281481           414.644444           405.754630   \n",
       "\n",
       "         power_em_thruster_total         cog   sin_pm1   sin_pm2   sin_pm3  \\\n",
       "trip_no                                                                      \n",
       "3.0                  1492.587695   72.778990  0.006538  0.041393 -0.123441   \n",
       "5.0                  1550.988656   72.043185  0.009410  0.043116 -0.013878   \n",
       "10.0                 1965.769772  254.918330  0.055449  0.152862  0.099324   \n",
       "15.0                 1557.491667   73.650981 -0.029059  0.000641 -0.110686   \n",
       "19.0                 1741.220370   72.709019 -0.020574  0.010590 -0.239037   \n",
       "\n",
       "          sin_pm4   cos_pm1   cos_pm2   cos_pm3   cos_pm4  power_heeling  \\\n",
       "trip_no                                                                    \n",
       "3.0     -0.077197 -0.711043 -0.712979 -0.758449 -0.755415       2.035813   \n",
       "5.0      0.039514 -0.657692 -0.658992 -0.696761 -0.695680       5.315009   \n",
       "10.0     0.088388  0.771472  0.780358  0.713399  0.717055       1.521968   \n",
       "15.0    -0.053767 -0.740453 -0.743191 -0.761008 -0.758853       0.138889   \n",
       "19.0    -0.178825 -0.638910 -0.642411 -0.762249 -0.757678       4.821296   \n",
       "\n",
       "              sog   delta_1   delta_2   delta_3   delta_4  trip_no   trip_time  \n",
       "trip_no                                                                         \n",
       "3.0      4.428171  0.139468  0.170051 -0.223215 -0.189404      3.0  544.000918  \n",
       "5.0      4.270926  0.108890  0.160508  0.045390  0.016251      5.0  572.500000  \n",
       "10.0     4.374468 -1.598657  2.316994  1.885320  1.212720     10.0  568.500000  \n",
       "15.0     4.503771 -0.176034 -0.133500 -0.202908 -0.273004     15.0  539.500000  \n",
       "19.0     4.524063  0.201561  0.248450 -0.360110 -0.301560     19.0  539.519444  "
      ]
     },
     "execution_count": 6,
     "metadata": {},
     "output_type": "execute_result"
    }
   ],
   "source": [
    "df_statistics.head()"
   ]
  },
  {
   "cell_type": "code",
   "execution_count": 7,
   "metadata": {},
   "outputs": [],
   "source": [
    "client.close()"
   ]
  },
  {
   "cell_type": "code",
   "execution_count": null,
   "metadata": {},
   "outputs": [],
   "source": []
  }
 ],
 "metadata": {
  "kernel_info": {
   "name": "python38-azureml"
  },
  "kernelspec": {
   "display_name": "Python 3",
   "language": "python",
   "name": "python3"
  },
  "language_info": {
   "codemirror_mode": {
    "name": "ipython",
    "version": 3
   },
   "file_extension": ".py",
   "mimetype": "text/x-python",
   "name": "python",
   "nbconvert_exporter": "python",
   "pygments_lexer": "ipython3",
   "version": "3.8.10"
  },
  "metadata": {
   "interpreter": {
    "hash": "1af9919311219ec039f6aa4a644c204a4b4e1e8e730770ba7f65632752293606"
   }
  },
  "microsoft": {
   "host": {
    "AzureML": {
     "notebookHasBeenCompleted": true
    }
   }
  },
  "nteract": {
   "version": "nteract-front-end@1.0.0"
  }
 },
 "nbformat": 4,
 "nbformat_minor": 4
}

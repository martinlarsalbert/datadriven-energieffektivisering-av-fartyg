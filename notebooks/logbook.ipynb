{
 "cells": [
  {
   "cell_type": "markdown",
   "metadata": {},
   "source": [
    "<a id='logbook'></a>\n",
    "# Logbook"
   ]
  },
  {
   "cell_type": "code",
   "execution_count": 1,
   "metadata": {},
   "outputs": [
    {
     "name": "stderr",
     "output_type": "stream",
     "text": [
      "Duplicate key in file WindowsPath('C:/Users/maa/.matplotlib/stylelib/paper.mplstyle'), line 462 ('figure.figsize   : 5, 3   ## figure size in inches')\n",
      "Duplicate key in file WindowsPath('C:/Users/maa/.matplotlib/stylelib/paper.mplstyle'), line 463 ('figure.dpi       : 100        ## figure dots per inch')\n"
     ]
    }
   ],
   "source": [
    "# %load imports.py\n",
    "%matplotlib inline\n",
    "%load_ext autoreload\n",
    "%autoreload 2\n",
    "\n",
    "import numpy as np\n",
    "import pandas as pd\n",
    "import matplotlib.pyplot as plt\n",
    "#import seaborn as sns\n",
    "import os\n",
    "from collections import OrderedDict\n",
    "\n",
    "from IPython.display import display\n",
    "\n",
    "pd.options.display.max_rows = 999\n",
    "pd.options.display.max_columns = 999\n",
    "pd.set_option(\"display.max_columns\", None)\n",
    "\n",
    "import folium\n",
    "\n",
    "import sys\n",
    "import os\n",
    "sys.path.append('../')\n",
    "from src.visualization import visualize\n",
    "import src.models.pipelines.longterm.scripts.prepdata.trip.prepare_dataset as prepare_dataset\n"
   ]
  },
  {
   "cell_type": "markdown",
   "metadata": {},
   "source": [
    "## Nomenclature\n",
    "| Variable | Explain |\n",
    "|---|---|\n",
    "|$\\pi$| example |"
   ]
  },
  {
   "cell_type": "markdown",
   "metadata": {},
   "source": [
    "Here is a cell link: [Logbook](#logbook)"
   ]
  },
  {
   "cell_type": "markdown",
   "metadata": {},
   "source": [
    "## Workflow\n",
    "Defined the workflow as a pipeline with notebooks that must be run to get the rest of the analysis working: [01.1_workflow.ipynb](01.1_workflow.ipynb)"
   ]
  },
  {
   "cell_type": "markdown",
   "metadata": {},
   "source": [
    "## 2021-04-09\n",
    "What have I done today?"
   ]
  },
  {
   "cell_type": "markdown",
   "metadata": {},
   "source": [
    "## 2021-04-13\n",
    "* Setup dataset etc. on Azure Machine Learning (AML).\n",
    "* Loaded some of the data:\n"
   ]
  },
  {
   "cell_type": "code",
   "execution_count": 2,
   "metadata": {},
   "outputs": [
    {
     "ename": "NameError",
     "evalue": "name 'get_dataset' is not defined",
     "output_type": "error",
     "traceback": [
      "\u001b[1;31m---------------------------------------------------------------------------\u001b[0m",
      "\u001b[1;31mNameError\u001b[0m                                 Traceback (most recent call last)",
      "\u001b[1;32m<ipython-input-2-f9753e9f7bd8>\u001b[0m in \u001b[0;36m<module>\u001b[1;34m\u001b[0m\n\u001b[1;32m----> 1\u001b[1;33m \u001b[0mdf\u001b[0m \u001b[1;33m=\u001b[0m \u001b[0mget_dataset\u001b[0m\u001b[1;33m(\u001b[0m\u001b[1;33m)\u001b[0m\u001b[1;33m\u001b[0m\u001b[1;33m\u001b[0m\u001b[0m\n\u001b[0m\u001b[0;32m      2\u001b[0m \u001b[0mvisualize\u001b[0m\u001b[1;33m.\u001b[0m\u001b[0mplot_map\u001b[0m\u001b[1;33m(\u001b[0m\u001b[0mdf\u001b[0m\u001b[1;33m)\u001b[0m\u001b[1;33m\u001b[0m\u001b[1;33m\u001b[0m\u001b[0m\n",
      "\u001b[1;31mNameError\u001b[0m: name 'get_dataset' is not defined"
     ]
    }
   ],
   "source": [
    "df = get_dataset()\n",
    "visualize.plot_map(df)"
   ]
  },
  {
   "cell_type": "markdown",
   "metadata": {},
   "source": [
    "## 2021-04-16\n",
    "* Devloped methods to divide the time series into trips: [02.1_data_extraction_trips_condition.ipynb](02.1_data_extraction_trips_condition.ipynb).\n",
    "* This can be used to get some trip statistics to see how the trips differ over the day/month/year etc.\n",
    "* It seems that the energy consumtion can differ up to a factor 2 between \"good\" and bad \"trips\"."
   ]
  },
  {
   "cell_type": "markdown",
   "metadata": {},
   "source": [
    "## 2021-04-19\n",
    "* Made a animation of the thruster angles during a trip in: [02.3_data_thruster_angles.ipynb](02.3_data_thruster_angles.ipynb).\n",
    "* The angles are given as components in the x-direction (along the ship), y-direction (to starboard) [x;y] = [ -cos(\\delta); -sin(\\delta)]\n",
    "* It was decided to keep these sin/cos components as they are more convenient for making statistics resampling etc. The rudder angle can always be calculated very easily: \n",
    "```python \n",
    "delta = arctan2(-sin(delta), -cos(delta)) \n",
    "```"
   ]
  },
  {
   "cell_type": "markdown",
   "metadata": {},
   "source": [
    "## 2021-04-20\n",
    "* Defined the workflow as a pipeline with notebooks that must be run to get the rest of the analysis working: [01.1_workflow.ipynb](01.1_workflow.ipynb)\n",
    "* Generated some trip statistics: [02.4_data_trip_statistics.ipynb](02.4_data_trip_statistics.ipynb)\n",
    "* When the ship is in reverse direction \"heading\" is 180 degrees \"wrong\". This is corrected for each trip."
   ]
  },
  {
   "cell_type": "markdown",
   "metadata": {},
   "source": [
    "## 2021-04-23\n",
    "* Held a presentation: [01.1_D2E2F_project_meeting.ipynb](../presentations/01.1_D2E2F_project_meeting.ipynb) for D2E2F.\n",
    "* Also made some animations:\n",
    "![](../presentations/animations/trip_101.gif \"101\")"
   ]
  },
  {
   "cell_type": "markdown",
   "metadata": {},
   "source": [
    "## 2021-04-28\n",
    "* Looked at the thruster angles again: [02.3_data_thruster_angles.ipynb](02.3_data_thruster_angles.ipynb)\n",
    "   * It seems that thruster 1 & 2 are run together and that 3 & 4 are run togheter.\n",
    "   * This notebook concludes that the following placements are possible:\n",
    "      * SV,SE,NV,NE\n",
    "      * SE,SV,NV,NE\n",
    "      * SE,SV,NE,NV\n",
    "      * SV,SE,NV,NE\n",
    "   * But since they are run togehter perhaps if 1 is on port or starboard side does not matter?"
   ]
  },
  {
   "cell_type": "markdown",
   "metadata": {},
   "source": [
    "## 2021-04-29\n",
    "* Experimented with the parquet file format: [02.5_explore_parquet_file_format.ipynb](02.5_explore_parquet_file_format.ipynb)\n",
    "\n",
    "### Meeting with ForSea\n",
    "* [01.2_ForSea_meeting.ipynb](../presentations/01.2_ForSea_meeting.ipynb)"
   ]
  },
  {
   "cell_type": "markdown",
   "metadata": {},
   "source": [
    "## 2021-05-24\n",
    "* [03.1_explore_trip_statistics.ipynb](pipelines/longterm/experiments/2020-01-01-till-2021-02-28-tycho-brahe/03.1_explore_trip_statistics.ipynb)\n",
    "  * Thruster 1 & 2 work together: [here](pipelines/longterm/experiments/2020-01-01-till-2021-02-28-tycho-brahe/03.1_explore_trip_statistics.ipynb#P_corr)\n",
    "  * Thruster 3 & 4 work together\n",
    "  * forward thruster data is a bit strange: [here](pipelines/longterm/experiments/2020-01-01-till-2021-02-28-tycho-brahe/03.1_explore_trip_statistics.ipynb#fwd_cos)\n",
    "  * A power prediction as simple as $P=sog^3$ can describe 99.4% of the variance in the model [here](pipelines/longterm/experiments/2020-01-01-till-2021-02-28-tycho-brahe/03.1_explore_trip_statistics.ipynb#sog)\n",
    "  \n",
    "  \n",
    "\n"
   ]
  },
  {
   "cell_type": "markdown",
   "metadata": {},
   "source": [
    "## 2021-05-25\n",
    "* Using just a small sample of the data also gives a large $R^2$ : [here](pipelines/longterm/experiments/2020-01-01-till-2021-02-28-tycho-brahe/03.1_explore_trip_statistics.ipynb#small_sample)\n",
    "* This implies that the speed is the single most important feature for the power consumption.\n",
    "* The weather seems to have a much smaller influence, or perhaps the ferries take another longer route to avoid the weather which will require a higher speed?\n"
   ]
  },
  {
   "cell_type": "markdown",
   "metadata": {},
   "source": [
    "## 2021-06-03\n",
    "<img src=\"pipelines/longterm/2020-01-01-till-2021-02-28-tycho-brahe/trips.png\" width=500/>"
   ]
  },
  {
   "cell_type": "markdown",
   "metadata": {},
   "source": [
    "## References\n",
    "<div class=\"cite2c-biblio\"></div>"
   ]
  },
  {
   "cell_type": "code",
   "execution_count": null,
   "metadata": {},
   "outputs": [],
   "source": []
  }
 ],
 "metadata": {
  "cite2c": {
   "citations": {
    "7505983/NXYCMQLI": {
     "URL": "https://scholar.google.com/scholar_lookup?title=On%20roll%20damping%20force%20of%20ship%3A%20effects%20of%20friction%20of%20hull%20and%20normal%20force%20of%20bilge%20keels&author=Y.%20Ikeda&author=Y.%20Himeno&author=N.%20Tanaka&journal=J%20Kansai%20Soc%20Naval%20Archit%20Jpn&volume=161&pages=41-49&publication_year=1976",
     "accessed": {
      "day": 24,
      "month": 1,
      "year": 2020
     },
     "id": "7505983/NXYCMQLI",
     "title": "Ikeda: Report no. 401: On roll damping force of ship-effe... - Google Scholar",
     "type": "article"
    },
    "7505983/RC2WJ4RI": {
     "id": "7505983/RC2WJ4RI",
     "title": "JourneeAdegeest2003_pp180to195inTheoreticalManualSEAWAY.pdf",
     "type": "article"
    },
    "7505983/RWXBIIJJ": {
     "URL": "https://repository.tudelft.nl/islandora/object/uuid%3A2d4991a4-96ac-4935-b2a3-e712effd744d",
     "accessed": {
      "day": 4,
      "month": 3,
      "year": 2020
     },
     "author": [
      {
       "family": "Himeno",
       "given": "Yoji"
      }
     ],
     "container-title": "The University of Michigan, College of Engineering, Department of Naval Architecture and Marine Engineering, USA, Report No. 239",
     "id": "7505983/RWXBIIJJ",
     "issued": {
      "year": 1981
     },
     "language": "en",
     "title": "Prediction of ship roll damping - state of the art",
     "type": "article-journal"
    },
    "7505983/ZVF3F5V5": {
     "id": "7505983/ZVF3F5V5",
     "title": "Ikeda et al. - 1978 - Components of roll damping of ship at forward spee.pdf",
     "type": "article"
    }
   }
  },
  "kernelspec": {
   "display_name": "Python 3",
   "language": "python",
   "name": "python3"
  },
  "language_info": {
   "codemirror_mode": {
    "name": "ipython",
    "version": 3
   },
   "file_extension": ".py",
   "mimetype": "text/x-python",
   "name": "python",
   "nbconvert_exporter": "python",
   "pygments_lexer": "ipython3",
   "version": "3.8.10"
  },
  "metadata": {
   "interpreter": {
    "hash": "1af9919311219ec039f6aa4a644c204a4b4e1e8e730770ba7f65632752293606"
   }
  }
 },
 "nbformat": 4,
 "nbformat_minor": 4
}

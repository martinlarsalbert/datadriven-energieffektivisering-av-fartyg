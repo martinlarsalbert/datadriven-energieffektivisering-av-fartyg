{
 "cells": [
  {
   "cell_type": "markdown",
   "metadata": {},
   "source": [
    "# Data exploration"
   ]
  },
  {
   "cell_type": "markdown",
   "metadata": {},
   "source": [
    "# Purpose\n",
    "Explore the ForSea data"
   ]
  },
  {
   "cell_type": "markdown",
   "metadata": {},
   "source": [
    "# Methodology\n",
    "Quickly describe assumptions and processing steps."
   ]
  },
  {
   "cell_type": "markdown",
   "metadata": {},
   "source": [
    "# Setup"
   ]
  },
  {
   "cell_type": "code",
   "execution_count": null,
   "metadata": {},
   "outputs": [],
   "source": [
    "# %load imports.py\n",
    "%matplotlib inline\n",
    "%load_ext autoreload\n",
    "%autoreload 2\n",
    "\n",
    "import src.data\n",
    "import numpy as np\n",
    "import pandas as pd\n",
    "import matplotlib.pyplot as plt\n",
    "import seaborn as sns\n",
    "import os\n",
    "from collections import OrderedDict\n",
    "\n",
    "from IPython.display import display\n",
    "\n",
    "pd.options.display.max_rows = 999\n",
    "pd.options.display.max_columns = 999\n",
    "pd.set_option(\"display.max_columns\", None)\n"
   ]
  },
  {
   "cell_type": "code",
   "execution_count": null,
   "metadata": {},
   "outputs": [],
   "source": [
    "file_path = os.path.join(src.data.path_tycho)\n",
    "\n",
    "max_rows = 100000\n",
    "min_V = 0.01\n",
    "\n",
    "reader = pd.read_csv(file_path, chunksize=10000, iterator=True)  # Loading a small part of the data\n",
    "df_raw = pd.DataFrame()\n",
    "for df_ in reader:\n",
    "    \n",
    "    mask = df_['Speed over ground (kts)']>min_V\n",
    "    df_=df_.loc[mask].copy()\n",
    "    df_raw = df_raw.append(df_)\n",
    "    \n",
    "    if len(df_raw) > max_rows:\n",
    "        break\n",
    "    \n",
    "df_raw.set_index('Timestamp [UTC]', inplace=True)\n",
    "df_raw.index = pd.to_datetime(df_raw.index)"
   ]
  },
  {
   "cell_type": "code",
   "execution_count": null,
   "metadata": {},
   "outputs": [],
   "source": [
    "df_raw.describe()"
   ]
  },
  {
   "cell_type": "code",
   "execution_count": null,
   "metadata": {},
   "outputs": [],
   "source": [
    "df_raw.head()"
   ]
  },
  {
   "cell_type": "code",
   "execution_count": null,
   "metadata": {},
   "outputs": [],
   "source": [
    "df = df_raw.rename(columns = {\n",
    "    'Latitude (deg)' : 'latitude',\n",
    "    'Longitude (deg)' : 'longitude',\n",
    "        \n",
    "    \n",
    "})\n",
    "\n",
    "df['V'] = df['Speed over ground (kts)']*1.852/3.6\n",
    "\n",
    "\n",
    "df.drop(columns=[\n",
    "    'Speed over ground (kts)',\n",
    "], inplace=True)\n",
    "\n"
   ]
  },
  {
   "cell_type": "markdown",
   "metadata": {},
   "source": [
    "## Plot maps"
   ]
  },
  {
   "cell_type": "code",
   "execution_count": null,
   "metadata": {},
   "outputs": [],
   "source": [
    "df.plot(x='longitude', y='latitude')"
   ]
  },
  {
   "cell_type": "code",
   "execution_count": null,
   "metadata": {},
   "outputs": [],
   "source": [
    "df_ = df.resample('30S').mean()\n",
    "df_.dropna(subset=['latitude','longitude'], inplace=True)\n",
    "\n",
    "mask = df_['Course over ground (deg)'] < 150\n",
    "df_out = df_.loc[mask]\n",
    "df_home = df_.loc[~mask]\n",
    "\n"
   ]
  },
  {
   "cell_type": "code",
   "execution_count": null,
   "metadata": {},
   "outputs": [],
   "source": [
    "import folium\n",
    "my_map = folium.Map(location=(df_['latitude'].mean(),df_['longitude'].mean()), zoom_start=14)"
   ]
  },
  {
   "cell_type": "code",
   "execution_count": null,
   "metadata": {},
   "outputs": [],
   "source": [
    "points = df_out[['latitude','longitude']].to_records(index=False)\n",
    "line = folium.PolyLine(points, popup='out')\n",
    "line.add_to(my_map);\n",
    "\n",
    "points = df_home[['latitude','longitude']].to_records(index=False)\n",
    "line2 = folium.PolyLine(points, popup='home')\n",
    "line2.add_to(my_map);\n",
    "\n",
    "\n"
   ]
  },
  {
   "cell_type": "code",
   "execution_count": null,
   "metadata": {},
   "outputs": [],
   "source": [
    "my_map"
   ]
  },
  {
   "cell_type": "code",
   "execution_count": null,
   "metadata": {},
   "outputs": [],
   "source": []
  }
 ],
 "metadata": {
  "kernelspec": {
   "display_name": "Python 3",
   "language": "python",
   "name": "python3"
  },
  "language_info": {
   "codemirror_mode": {
    "name": "ipython",
    "version": 3
   },
   "file_extension": ".py",
   "mimetype": "text/x-python",
   "name": "python",
   "nbconvert_exporter": "python",
   "pygments_lexer": "ipython3",
   "version": "3.8.7"
  }
 },
 "nbformat": 4,
 "nbformat_minor": 4
}

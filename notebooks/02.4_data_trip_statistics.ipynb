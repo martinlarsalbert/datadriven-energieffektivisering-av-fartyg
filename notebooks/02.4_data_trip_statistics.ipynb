{
 "cells": [
  {
   "cell_type": "markdown",
   "metadata": {},
   "source": [
    "# Create trip statistics"
   ]
  },
  {
   "cell_type": "markdown",
   "metadata": {},
   "source": [
    "# Purpose\n",
    "Before looking at the dynamics of the ferries from the time series it is a good idea to first look at some longer term trends. Statistics for each trip will be generated and saved as a first data reduction, to spot trends over the day/week/month and year."
   ]
  },
  {
   "cell_type": "markdown",
   "metadata": {},
   "source": [
    "# Methodology\n",
    "* Trip statistics will be generated for each trip containing:\n",
    "   * for all columns: min/mean/max/median/std\n",
    "   * energy consumption for all thrusters\n",
    "* The statistics will be stored into a [xarray](http://xarray.pydata.org/en/stable/)"
   ]
  },
  {
   "cell_type": "markdown",
   "metadata": {},
   "source": [
    "# Setup"
   ]
  },
  {
   "cell_type": "code",
   "execution_count": null,
   "metadata": {},
   "outputs": [],
   "source": [
    "# %load imports.py\n",
    "#%load imports.py\n",
    "%matplotlib inline\n",
    "%load_ext autoreload\n",
    "%autoreload 2\n",
    "\n",
    "import numpy as np\n",
    "import pandas as pd\n",
    "import matplotlib.pyplot as plt\n",
    "import matplotlib.pyplot as plt\n",
    "plt.rcParams[\"figure.figsize\"] = (20,3)\n",
    "\n",
    "#import seaborn as sns\n",
    "import os\n",
    "from collections import OrderedDict\n",
    "\n",
    "from IPython.display import display\n",
    "\n",
    "pd.options.display.max_rows = 999\n",
    "pd.options.display.max_columns = 999\n",
    "pd.set_option(\"display.max_columns\", None)\n",
    "\n",
    "import folium\n",
    "import plotly.express as px\n",
    "import plotly.graph_objects as go\n",
    "\n",
    "import sys\n",
    "import os\n",
    "sys.path.append('../')\n",
    "from src.visualization import visualize\n",
    "from src.data import get_dataset\n",
    "from src.data import trips\n",
    "import scipy.integrate\n",
    "import seaborn as sns\n",
    "import xarray as xr\n"
   ]
  },
  {
   "cell_type": "code",
   "execution_count": null,
   "metadata": {},
   "outputs": [],
   "source": [
    "%%time\n",
    "df = get_dataset.get(n_rows=None)\n",
    "deltas = ['delta_%i' % i for i in range(1,5)]\n",
    "df.drop(columns=deltas, inplace=True)\n",
    "df['trip_time'] = pd.TimedeltaIndex(df['trip_time']).total_seconds()\n",
    "\n",
    "mask = df['reversing'].copy()\n",
    "df['reversing'].loc[mask] = 1\n",
    "df['reversing'].loc[~mask] = 0\n"
   ]
  },
  {
   "cell_type": "code",
   "execution_count": null,
   "metadata": {},
   "outputs": [],
   "source": [
    "df.head()"
   ]
  },
  {
   "cell_type": "code",
   "execution_count": null,
   "metadata": {},
   "outputs": [],
   "source": [
    "groups = df.groupby(by='trip_no')\n",
    "assert (groups.last()['sog'] < 0.3).all()"
   ]
  },
  {
   "cell_type": "code",
   "execution_count": null,
   "metadata": {},
   "outputs": [],
   "source": [
    "trip = df.groupby(by='trip_no').get_group(11)"
   ]
  },
  {
   "cell_type": "code",
   "execution_count": null,
   "metadata": {},
   "outputs": [],
   "source": [
    "visualize.plot_map(trip)"
   ]
  },
  {
   "cell_type": "code",
   "execution_count": null,
   "metadata": {},
   "outputs": [],
   "source": [
    "def integrate_time(trip):\n",
    "    trip_ = trip.copy()\n",
    "    t = pd.TimedeltaIndex(trip_['trip_time'],unit='s').total_seconds()\n",
    "    trip_.drop(columns=['trip_time'], inplace=True)\n",
    "    integral_trip = scipy.integrate.simps(y=trip_.T,x=t)\n",
    "    s = pd.Series(data=integral_trip, name='integral', index=trip_.columns)\n",
    "    \n",
    "    return s"
   ]
  },
  {
   "cell_type": "code",
   "execution_count": null,
   "metadata": {},
   "outputs": [],
   "source": [
    "integrate_time(trip)"
   ]
  },
  {
   "cell_type": "code",
   "execution_count": null,
   "metadata": {},
   "outputs": [],
   "source": [
    "t = pd.TimedeltaIndex(trip['trip_time'], unit='s').total_seconds()\n",
    "scipy.integrate.simps(y=trip['power_em_thruster_total'],x=t)"
   ]
  },
  {
   "cell_type": "code",
   "execution_count": null,
   "metadata": {},
   "outputs": [],
   "source": [
    "def trip_statistic(trip):\n",
    "    \n",
    "    stats = trip.describe()  # General statistics\n",
    "    integral_trip = integrate_time(trip)\n",
    "    stats = stats.append(integral_trip)\n",
    "    return stats"
   ]
  },
  {
   "cell_type": "code",
   "execution_count": null,
   "metadata": {},
   "outputs": [],
   "source": [
    "\n",
    "ds_stats = None\n",
    "for trip_no, trip in df.groupby(by='trip_no'):\n",
    "    \n",
    "\n",
    "    trip_ = trip.copy()\n",
    "    trip_direction = trip_.iloc[0]['trip_direction']\n",
    "    #trip_.drop(columns=['trip_no','trip_direction'], inplace=True)\n",
    "    trip_.drop(columns=['trip_no'], inplace=True)\n",
    "    \n",
    "    \n",
    "    stats = trip_statistic(trip_)\n",
    "    stats.index.name = 'statistic'\n",
    "    \n",
    "    ds = xr.Dataset.from_dataframe(stats)\n",
    "    ds = ds.expand_dims('trip_no')\n",
    "    ds = ds.assign_coords(trip_no=np.array([trip_no],dtype=np.int64))\n",
    "    #ds.attrs['trip_direction'] = trip_direction\n",
    "    \n",
    "    if ds_stats is None:\n",
    "        ds_stats = ds\n",
    "    else:\n",
    "        ds_stats = xr.concat([ds_stats,ds], dim=\"trip_no\")\n"
   ]
  },
  {
   "cell_type": "code",
   "execution_count": null,
   "metadata": {},
   "outputs": [],
   "source": [
    "ds_stats"
   ]
  },
  {
   "cell_type": "code",
   "execution_count": null,
   "metadata": {},
   "outputs": [],
   "source": [
    "ds_stats.coords['statistic']"
   ]
  },
  {
   "cell_type": "code",
   "execution_count": null,
   "metadata": {},
   "outputs": [],
   "source": [
    "ds"
   ]
  },
  {
   "cell_type": "code",
   "execution_count": null,
   "metadata": {},
   "outputs": [],
   "source": [
    "ds_stats.sel(trip_no=2, statistic='mean')"
   ]
  },
  {
   "cell_type": "code",
   "execution_count": null,
   "metadata": {},
   "outputs": [],
   "source": [
    "ds_stats.sel(statistic='mean').plot.scatter(x=\"sog\",y=\"trip_time\")"
   ]
  },
  {
   "cell_type": "code",
   "execution_count": null,
   "metadata": {},
   "outputs": [],
   "source": [
    "ds_stats.sel(statistic='max').plot.scatter(x=\"sog\",y=\"power_em_thruster_total\")"
   ]
  },
  {
   "cell_type": "code",
   "execution_count": null,
   "metadata": {},
   "outputs": [],
   "source": [
    "ds_stats.sel(statistic=['min','mean','max']).plot.scatter(x=\"sog\",y=\"power_em_thruster_total\", hue='statistic');\n"
   ]
  },
  {
   "cell_type": "code",
   "execution_count": null,
   "metadata": {},
   "outputs": [],
   "source": [
    "xr.plot.hist(ds_stats.sel(statistic='mean')['sog'], bins=20);"
   ]
  },
  {
   "cell_type": "code",
   "execution_count": null,
   "metadata": {},
   "outputs": [],
   "source": [
    "xr.plot.hist(ds_stats.sel(statistic='integral')[\"power_em_thruster_total\"], bins=20);"
   ]
  },
  {
   "cell_type": "code",
   "execution_count": null,
   "metadata": {},
   "outputs": [],
   "source": [
    "ds_stats.sel(statistic='integral').plot.scatter(x=\"sog\",y=\"power_em_thruster_total\")"
   ]
  },
  {
   "cell_type": "code",
   "execution_count": null,
   "metadata": {},
   "outputs": [],
   "source": [
    "df_mean = ds_stats.sel(statistic='mean').to_dataframe()"
   ]
  },
  {
   "cell_type": "code",
   "execution_count": null,
   "metadata": {},
   "outputs": [],
   "source": [
    "df_means = df_mean.groupby(by='trip_direction').mean()\n",
    "df_stds =  df_mean.groupby(by='trip_direction').std()"
   ]
  },
  {
   "cell_type": "code",
   "execution_count": null,
   "metadata": {},
   "outputs": [],
   "source": [
    "\n",
    "directions = pd.Series({\n",
    "    0 : 'Helsingör-Helsinborg',\n",
    "    1 : 'Helsinborg-Helsingör',\n",
    "})\n",
    "\n",
    "\n",
    "x = directions[df_means.index]\n",
    "\n",
    "fig,ax=plt.subplots()\n",
    "ax.bar(x=x, height=df_means['power_em_thruster_total'], yerr=df_stds['power_em_thruster_total'])\n",
    "\n",
    "fig,ax=plt.subplots()\n",
    "ax.bar(x=x, height=df_means['trip_time'], yerr=df_stds['trip_time'])\n",
    "\n",
    "fig,ax=plt.subplots()\n",
    "ax.bar(x=x, height=df_means['sog'], yerr=df_stds['sog'])"
   ]
  },
  {
   "cell_type": "markdown",
   "metadata": {},
   "source": [
    "## Save statistics"
   ]
  },
  {
   "cell_type": "code",
   "execution_count": null,
   "metadata": {},
   "outputs": [],
   "source": [
    "df_mean = ds_stats.sel(statistic='mean').to_dataframe()\n",
    "df_integral = ds_stats.sel(statistic='integral').to_dataframe()\n",
    "df_std = ds_stats.sel(statistic='std').to_dataframe()\n",
    "\n",
    "df_max = ds_stats.sel(statistic='max').to_dataframe()\n",
    "df_stats = df_mean.drop(columns=['statistic'])"
   ]
  },
  {
   "cell_type": "code",
   "execution_count": null,
   "metadata": {},
   "outputs": [],
   "source": [
    "df_ = df.reset_index()\n",
    "start_times = df_.groupby('trip_no').first()['time']\n",
    "end_time = df_.groupby('trip_no').last()['time']\n"
   ]
  },
  {
   "cell_type": "code",
   "execution_count": null,
   "metadata": {},
   "outputs": [],
   "source": [
    "integral_columns = ['power_em_thruster_%i' %i for i in range(1,5)]\n",
    "integral_columns+=['power_em_thruster_total','power_heeling']\n",
    "df_stats[integral_columns] = df_integral[integral_columns]\n",
    "\n",
    "max_columns = ['trip_time']\n",
    "df_stats[max_columns] = df_max[max_columns]\n",
    "df_stats['start_time'] = start_times\n",
    "df_stats['end_time'] = end_time"
   ]
  },
  {
   "cell_type": "code",
   "execution_count": null,
   "metadata": {},
   "outputs": [],
   "source": [
    "df_stats.head()"
   ]
  },
  {
   "cell_type": "code",
   "execution_count": null,
   "metadata": {},
   "outputs": [],
   "source": [
    "from azureml.core import Workspace, Dataset\n",
    "\n",
    "subscription_id = '3e9a363e-f191-4398-bd11-d32ccef9529c'\n",
    "resource_group = 'demops'\n",
    "workspace_name = 'D2E2F'\n",
    "\n",
    "workspace = Workspace(subscription_id, resource_group, workspace_name)\n",
    "\n",
    "def save():\n",
    "    \n",
    "    df_stats_save = df_stats.copy()\n",
    "    df_stats_save.reset_index(inplace=True)\n",
    "    \n",
    "    datastore = workspace.get_default_datastore()\n",
    "    dataset_2 = Dataset.Tabular.register_pandas_dataframe(dataframe=df_stats_save, target=datastore, name=new_name)\n"
   ]
  },
  {
   "cell_type": "code",
   "execution_count": null,
   "metadata": {},
   "outputs": [],
   "source": [
    "new_name = 'tycho_short_statistics'\n",
    "if not new_name in workspace.datasets:\n",
    "    save()\n",
    "    "
   ]
  },
  {
   "cell_type": "code",
   "execution_count": null,
   "metadata": {},
   "outputs": [],
   "source": [
    "columns = ['cos_pm%i' % i for i in range(1,5)]\n",
    "df_std.mean()[columns]"
   ]
  },
  {
   "cell_type": "code",
   "execution_count": null,
   "metadata": {},
   "outputs": [],
   "source": [
    "columns = ['sin_pm%i' % i for i in range(1,5)]\n",
    "df_std.mean()[columns]"
   ]
  }
 ],
 "metadata": {
  "kernelspec": {
   "display_name": "Python 3",
   "language": "python",
   "name": "python3"
  },
  "language_info": {
   "codemirror_mode": {
    "name": "ipython",
    "version": 3
   },
   "file_extension": ".py",
   "mimetype": "text/x-python",
   "name": "python",
   "nbconvert_exporter": "python",
   "pygments_lexer": "ipython3",
   "version": "3.8.7"
  }
 },
 "nbformat": 4,
 "nbformat_minor": 4
}

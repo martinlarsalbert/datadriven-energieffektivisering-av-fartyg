{
 "cells": [
  {
   "cell_type": "markdown",
   "metadata": {},
   "source": [
    "# Create trip statistics"
   ]
  },
  {
   "cell_type": "markdown",
   "metadata": {},
   "source": [
    "# Purpose\n",
    "Before looking at the dynamics of the ferries from the time series it is a good idea to first look at some longer term trends. Statistics for each trip will be generated and saved as a first data reduction, to spot trends over the day/week/month and year."
   ]
  },
  {
   "cell_type": "markdown",
   "metadata": {},
   "source": [
    "# Methodology\n",
    "* Trip statistics will be generated for each trip containing:\n",
    "   * for all columns: min/mean/max/median/std\n",
    "   * energy consumption for all thrusters\n",
    "* The statistics will be stored into a [xarray](http://xarray.pydata.org/en/stable/)"
   ]
  },
  {
   "cell_type": "markdown",
   "metadata": {},
   "source": [
    "# Setup"
   ]
  },
  {
   "cell_type": "code",
   "execution_count": null,
   "metadata": {},
   "outputs": [],
   "source": [
    "# %load imports.py\n",
    "#%load imports.py\n",
    "%matplotlib inline\n",
    "%load_ext autoreload\n",
    "%autoreload 2\n",
    "\n",
    "import numpy as np\n",
    "import pandas as pd\n",
    "import matplotlib.pyplot as plt\n",
    "import matplotlib.pyplot as plt\n",
    "plt.rcParams[\"figure.figsize\"] = (20,3)\n",
    "\n",
    "#import seaborn as sns\n",
    "import os\n",
    "from collections import OrderedDict\n",
    "\n",
    "from IPython.display import display\n",
    "\n",
    "pd.options.display.max_rows = 999\n",
    "pd.options.display.max_columns = 999\n",
    "pd.set_option(\"display.max_columns\", None)\n",
    "\n",
    "import folium\n",
    "import plotly.express as px\n",
    "import plotly.graph_objects as go\n",
    "\n",
    "import sys\n",
    "import os\n",
    "sys.path.append('../')\n",
    "from src.visualization import visualize\n",
    "from src.data import get_dataset\n",
    "from src.data import trips\n",
    "import scipy.integrate\n",
    "import seaborn as sns\n",
    "import xarray as xr\n"
   ]
  },
  {
   "cell_type": "code",
   "execution_count": null,
   "metadata": {},
   "outputs": [],
   "source": [
    "df = get_dataset.get()\n",
    "deltas = ['delta_%i' % i for i in range(1,5)]\n",
    "df.drop(columns=deltas, inplace=True)\n",
    "df['trip_time'] = pd.TimedeltaIndex(df['trip_time']).total_seconds()"
   ]
  },
  {
   "cell_type": "code",
   "execution_count": null,
   "metadata": {},
   "outputs": [],
   "source": [
    "df.head()"
   ]
  },
  {
   "cell_type": "code",
   "execution_count": null,
   "metadata": {},
   "outputs": [],
   "source": [
    "trip = df.groupby(by='trip_no').get_group(11)"
   ]
  },
  {
   "cell_type": "code",
   "execution_count": null,
   "metadata": {},
   "outputs": [],
   "source": [
    "visualize.plot_map(trip)"
   ]
  },
  {
   "cell_type": "code",
   "execution_count": null,
   "metadata": {},
   "outputs": [],
   "source": [
    "def integrate_time(trip):\n",
    "    trip_ = trip.copy()\n",
    "    t = pd.TimedeltaIndex(trip_['trip_time'],unit='s').total_seconds()\n",
    "    trip_.drop(columns=['trip_time'], inplace=True)\n",
    "    integral_trip = scipy.integrate.simps(y=trip_.T,x=t)\n",
    "    s = pd.Series(data=integral_trip, name='integral', index=trip_.columns)\n",
    "    \n",
    "    return s"
   ]
  },
  {
   "cell_type": "code",
   "execution_count": null,
   "metadata": {},
   "outputs": [],
   "source": [
    "integrate_time(trip)"
   ]
  },
  {
   "cell_type": "code",
   "execution_count": null,
   "metadata": {},
   "outputs": [],
   "source": [
    "t = pd.TimedeltaIndex(trip_['trip_time'], unit='s').total_seconds()\n",
    "scipy.integrate.simps(y=trip['power_em_thruster_total'],x=t)"
   ]
  },
  {
   "cell_type": "code",
   "execution_count": null,
   "metadata": {},
   "outputs": [],
   "source": [
    "def trip_statistic(trip):\n",
    "    \n",
    "    stats = trip.describe()  # General statistics\n",
    "    integral_trip = integrate_time(trip)\n",
    "    stats = stats.append(integral_trip)\n",
    "    return stats"
   ]
  },
  {
   "cell_type": "code",
   "execution_count": null,
   "metadata": {},
   "outputs": [],
   "source": [
    "\n",
    "ds_stats = None\n",
    "for trip_no, trip in df.groupby(by='trip_no'):\n",
    "    \n",
    "\n",
    "    trip_ = trip.copy()\n",
    "    trip_.drop(columns=['trip_no'], inplace=True)\n",
    "    \n",
    "    stats = trip_statistic(trip_)\n",
    "    stats.index.name = 'statistic'\n",
    "    \n",
    "    ds = xr.Dataset.from_dataframe(stats)\n",
    "    ds = ds.expand_dims('trip_no')\n",
    "    ds = ds.assign_coords(trip_no=np.array([trip_no],dtype=np.int64))\n",
    "    \n",
    "    if ds_stats is None:\n",
    "        ds_stats = ds\n",
    "    else:\n",
    "        ds_stats = xr.concat([ds_stats,ds], dim=\"trip_no\")\n"
   ]
  },
  {
   "cell_type": "code",
   "execution_count": null,
   "metadata": {},
   "outputs": [],
   "source": [
    "ds_stats"
   ]
  },
  {
   "cell_type": "code",
   "execution_count": null,
   "metadata": {},
   "outputs": [],
   "source": [
    "ds_stats.coords['statistic']"
   ]
  },
  {
   "cell_type": "code",
   "execution_count": null,
   "metadata": {},
   "outputs": [],
   "source": [
    "ds"
   ]
  },
  {
   "cell_type": "code",
   "execution_count": null,
   "metadata": {},
   "outputs": [],
   "source": [
    "ds_stats.sel(trip_no=17, statistic='mean')"
   ]
  },
  {
   "cell_type": "code",
   "execution_count": null,
   "metadata": {},
   "outputs": [],
   "source": [
    "ds_stats.sel(statistic='mean').plot.scatter(x=\"sog\",y=\"trip_time\")"
   ]
  },
  {
   "cell_type": "code",
   "execution_count": null,
   "metadata": {},
   "outputs": [],
   "source": [
    "ds_stats.sel(statistic='max').plot.scatter(x=\"sog\",y=\"power_propulsion_total\")"
   ]
  },
  {
   "cell_type": "code",
   "execution_count": null,
   "metadata": {},
   "outputs": [],
   "source": [
    "ds_stats.sel(statistic=['min','mean','max']).plot.scatter(x=\"sog\",y=\"power_propulsion_total\", hue='statistic');\n"
   ]
  },
  {
   "cell_type": "code",
   "execution_count": null,
   "metadata": {},
   "outputs": [],
   "source": [
    "xr.plot.hist(ds_stats.sel(statistic='mean')['sog'], bins=20);"
   ]
  },
  {
   "cell_type": "code",
   "execution_count": null,
   "metadata": {},
   "outputs": [],
   "source": [
    "xr.plot.hist(ds_stats.sel(statistic='integral')[\"power_propulsion_total\"], bins=20);"
   ]
  },
  {
   "cell_type": "code",
   "execution_count": null,
   "metadata": {},
   "outputs": [],
   "source": [
    "ds_stats.sel(statistic='integral').plot.scatter(x=\"sog\",y=\"power_propulsion_total\")"
   ]
  },
  {
   "cell_type": "code",
   "execution_count": null,
   "metadata": {},
   "outputs": [],
   "source": []
  }
 ],
 "metadata": {
  "kernelspec": {
   "display_name": "Python 3",
   "language": "python",
   "name": "python3"
  },
  "language_info": {
   "codemirror_mode": {
    "name": "ipython",
    "version": 3
   },
   "file_extension": ".py",
   "mimetype": "text/x-python",
   "name": "python",
   "nbconvert_exporter": "python",
   "pygments_lexer": "ipython3",
   "version": "3.8.7"
  }
 },
 "nbformat": 4,
 "nbformat_minor": 4
}

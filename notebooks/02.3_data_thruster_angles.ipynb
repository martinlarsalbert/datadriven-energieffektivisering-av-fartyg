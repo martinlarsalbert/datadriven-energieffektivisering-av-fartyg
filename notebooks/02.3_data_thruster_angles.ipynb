{
 "cells": [
  {
   "cell_type": "markdown",
   "metadata": {},
   "source": [
    "# Thruster angles"
   ]
  },
  {
   "cell_type": "markdown",
   "metadata": {},
   "source": [
    "# Purpose\n",
    "Check that thruster angles are post processed correctly, from the cos/sin"
   ]
  },
  {
   "cell_type": "markdown",
   "metadata": {},
   "source": [
    "# Methodology\n",
    "* Load data from one trip and see that the thruster angles makes sense."
   ]
  },
  {
   "cell_type": "markdown",
   "metadata": {},
   "source": [
    "# Setup"
   ]
  },
  {
   "cell_type": "code",
   "execution_count": null,
   "metadata": {
    "gather": {
     "logged": 1618500219438
    }
   },
   "outputs": [],
   "source": [
    "#%load imports.py\n",
    "%matplotlib inline\n",
    "%load_ext autoreload\n",
    "%autoreload 2\n",
    "\n",
    "import numpy as np\n",
    "import pandas as pd\n",
    "import matplotlib.pyplot as plt\n",
    "import matplotlib.pyplot as plt\n",
    "plt.rcParams[\"figure.figsize\"] = (20,3)\n",
    "\n",
    "#import seaborn as sns\n",
    "import os\n",
    "from collections import OrderedDict\n",
    "\n",
    "from IPython.display import display\n",
    "\n",
    "pd.options.display.max_rows = 999\n",
    "pd.options.display.max_columns = 999\n",
    "pd.set_option(\"display.max_columns\", None)\n",
    "\n",
    "import folium\n",
    "import plotly.express as px\n",
    "import plotly.graph_objects as go\n",
    "\n",
    "import sys\n",
    "import os\n",
    "sys.path.append('../')\n",
    "from src.visualization import visualize\n",
    "from src.data import get_dataset\n",
    "from src.data import prepare_dataset\n",
    "from src.data import trips\n",
    "import scipy.integrate\n",
    "import seaborn as sns\n"
   ]
  },
  {
   "cell_type": "markdown",
   "metadata": {},
   "source": [
    "## Load one trip:"
   ]
  },
  {
   "cell_type": "code",
   "execution_count": null,
   "metadata": {},
   "outputs": [],
   "source": [
    "#df = prepare_dataset.get_dataset(do_calculate_rudder_angles=False, n_rows=900)\n",
    "trip = get_dataset.get_trip(trip_no=3)"
   ]
  },
  {
   "cell_type": "code",
   "execution_count": null,
   "metadata": {},
   "outputs": [],
   "source": [
    "trip.head()"
   ]
  },
  {
   "cell_type": "code",
   "execution_count": null,
   "metadata": {},
   "outputs": [],
   "source": [
    "visualize.plot_map(df=trip, width=1000, height=600, zoom_start=14)"
   ]
  },
  {
   "cell_type": "code",
   "execution_count": null,
   "metadata": {},
   "outputs": [],
   "source": [
    "trip2 = trip.resample('5S').mean()\n",
    "trip2 = prepare_dataset.calculate_rudder_angles(df=trip2, drop=False)\n",
    "#trip2 = trip2.iloc[0:500]"
   ]
  },
  {
   "cell_type": "code",
   "execution_count": null,
   "metadata": {},
   "outputs": [],
   "source": [
    "deltas = ['delta_%i' % i for i in range(1,5)]\n",
    "\n",
    "fig,axes=plt.subplots(ncols=len(deltas))\n",
    "\n",
    "for delta,ax in zip(deltas,axes):\n",
    "\n",
    "    trip2[delta].plot(ax=ax)\n",
    "    ax.legend(loc='upper left')    \n",
    "    ax.grid(True)\n"
   ]
  },
  {
   "cell_type": "code",
   "execution_count": null,
   "metadata": {},
   "outputs": [],
   "source": [
    "thruster_powers = ['power_em_thruster_%i' % i for i in range(1,5)]\n",
    "\n",
    "fig,axes=plt.subplots(ncols=len(thruster_powers))\n",
    "\n",
    "for thruster_power,ax in zip(thruster_powers,axes):\n",
    "\n",
    "    trip[thruster_power].plot(ax=ax)\n",
    "    ax.legend(loc='upper left')"
   ]
  },
  {
   "cell_type": "code",
   "execution_count": null,
   "metadata": {},
   "outputs": [],
   "source": [
    "from ipywidgets import interactive"
   ]
  },
  {
   "cell_type": "code",
   "execution_count": null,
   "metadata": {},
   "outputs": [],
   "source": [
    "trip_ = trip.copy()\n",
    "trip_ = prepare_dataset.calculate_rudder_angles(df=trip_, drop=False)\n",
    "trip_['trip_time_s'] = pd.TimedeltaIndex(trip_['trip_time']).total_seconds()\n",
    "#trip_.set_index('trip_time_s', inplace=True)"
   ]
  },
  {
   "cell_type": "code",
   "execution_count": null,
   "metadata": {},
   "outputs": [],
   "source": [
    "def plot_thruster(ax, x,y,cos,sin,l=10):\n",
    "    \n",
    "    ax.arrow(x=x, y=y, dx=-l*sin, dy=-l*cos, head_width=l/5, head_length=l/5)\n",
    "    \n",
    "def plot_thrust_allocation(row, lpp=50, beam=20):\n",
    "    \n",
    "    fig,axes=plt.subplots(ncols=2)\n",
    "    fig.set_size_inches(20,5)\n",
    "    ax = axes[0]    \n",
    "    positions = np.array([\n",
    "        [-1,-1],\n",
    "        [1,-1],\n",
    "        [1,1],\n",
    "        [-1,1],\n",
    "        \n",
    "    ])\n",
    "    \n",
    "    coordinates = np.array([positions[:,0]*beam/2, positions[:,1]*lpp/2] ).T\n",
    "        \n",
    "    \n",
    "    for i,position in enumerate(coordinates):\n",
    "        \n",
    "        n=i+1\n",
    "        sin_key = 'sin_pm%i' % n\n",
    "        cos_key = 'cos_pm%i' % n\n",
    "                \n",
    "        plot_thruster(ax=ax, x=position[0], y=position[1], cos=row[cos_key], sin=row[sin_key])\n",
    "        \n",
    "    \n",
    "    ax.set_xlim(np.min(coordinates[:,0]),np.max(coordinates[:,0]))\n",
    "    ax.set_xlim(np.min(coordinates[:,1]),np.max(coordinates[:,1]))\n",
    "    ax.set_aspect('equal', 'box')\n",
    "    \n",
    "    ## Second plot:\n",
    "    ax = axes[1]\n",
    "    trip_.plot(x='longitude', y='latitude', ax=ax, style='k--')\n",
    "    ax.plot(row['longitude'], row['latitude'], 'o')\n",
    "    \n",
    "    ax.set_ylim(trip_['latitude'].min(), trip_['latitude'].max())\n",
    "    ax.set_xlim(trip_['longitude'].min(), trip_['longitude'].max())\n",
    "    \n",
    "\n",
    "def animate(i=0):\n",
    "    \n",
    "    index = int(i)\n",
    "    row = trip_.iloc[index]\n",
    "    plot_thrust_allocation(row=row)\n",
    "        \n",
    "\n",
    "        \n",
    "interactive_plot = interactive(animate, i = (0,len(trip_)-1,1))\n",
    "output = interactive_plot.children[-1]\n",
    "output.layout.height = '350px'\n",
    "interactive_plot\n",
    "    \n",
    "#plot_thrust_allocation(row=trip.iloc[100])\n",
    "    "
   ]
  }
 ],
 "metadata": {
  "kernel_info": {
   "name": "python38-azureml"
  },
  "kernelspec": {
   "display_name": "Python 3",
   "language": "python",
   "name": "python3"
  },
  "language_info": {
   "codemirror_mode": {
    "name": "ipython",
    "version": 3
   },
   "file_extension": ".py",
   "mimetype": "text/x-python",
   "name": "python",
   "nbconvert_exporter": "python",
   "pygments_lexer": "ipython3",
   "version": "3.8.7"
  },
  "metadata": {
   "interpreter": {
    "hash": "1af9919311219ec039f6aa4a644c204a4b4e1e8e730770ba7f65632752293606"
   }
  },
  "microsoft": {
   "host": {
    "AzureML": {
     "notebookHasBeenCompleted": true
    }
   }
  },
  "nteract": {
   "version": "nteract-front-end@1.0.0"
  }
 },
 "nbformat": 4,
 "nbformat_minor": 4
}

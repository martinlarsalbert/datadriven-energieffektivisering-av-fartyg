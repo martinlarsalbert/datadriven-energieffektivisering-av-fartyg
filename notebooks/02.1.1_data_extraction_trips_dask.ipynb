{
 "cells": [
  {
   "cell_type": "markdown",
   "metadata": {},
   "source": [
    "# Data extraction of trips using Dask dataframe"
   ]
  },
  {
   "cell_type": "markdown",
   "metadata": {},
   "source": [
    "# Purpose\n",
    "As a first step the time series data will be divided into trips, as a data reduction. Energy consumption can be calculated for each trip together with other aggregated quantities such as mean values, standard deviations etc. This will be used to analyze how much trips differ from each other over the year.\n",
    "\n",
    "But the file is larger than the memory can take so this solution uses a Dask dataframe instead."
   ]
  },
  {
   "cell_type": "markdown",
   "metadata": {},
   "source": [
    "# Methodology\n",
    "* Loop over the dask dataframe partitions and number the trips, save to partquet in each loop."
   ]
  },
  {
   "cell_type": "markdown",
   "metadata": {},
   "source": [
    "# Setup"
   ]
  },
  {
   "cell_type": "code",
   "execution_count": null,
   "metadata": {
    "gather": {
     "logged": 1618500219438
    }
   },
   "outputs": [],
   "source": [
    "#%load imports.py\n",
    "%matplotlib inline\n",
    "%load_ext autoreload\n",
    "%autoreload 2\n",
    "\n",
    "import numpy as np\n",
    "import pandas as pd\n",
    "import matplotlib.pyplot as plt\n",
    "import matplotlib.pyplot as plt\n",
    "plt.rcParams[\"figure.figsize\"] = (20,3)\n",
    "\n",
    "#import seaborn as sns\n",
    "import os\n",
    "from collections import OrderedDict\n",
    "\n",
    "from IPython.display import display\n",
    "\n",
    "pd.options.display.max_rows = 999\n",
    "pd.options.display.max_columns = 999\n",
    "pd.set_option(\"display.max_columns\", None)\n",
    "\n",
    "import folium\n",
    "import plotly.express as px\n",
    "import plotly.graph_objects as go\n",
    "\n",
    "import sys\n",
    "import os\n",
    "sys.path.append('../')\n",
    "from src.visualization import visualize\n",
    "\n",
    "sys.path.append('../src/models/pipelines/longterm/scripts/prepdata/trip')\n",
    "import prepare_dataset, trips, trip_id\n",
    "\n",
    "import scipy.integrate\n",
    "import seaborn as sns\n",
    "\n",
    "import pyarrow as pa\n",
    "import pyarrow.parquet as pq\n"
   ]
  },
  {
   "cell_type": "code",
   "execution_count": null,
   "metadata": {},
   "outputs": [],
   "source": [
    "from dask.distributed import Client, progress, TimeoutError\n",
    "client = Client(n_workers=4, threads_per_worker=1, memory_limit='2GB')\n",
    "client"
   ]
  },
  {
   "cell_type": "code",
   "execution_count": null,
   "metadata": {
    "gather": {
     "logged": 1618500116933
    }
   },
   "outputs": [],
   "source": [
    "#df = prepare_dataset.get_dataset(name='tycho_short_parquet', n_rows=None)\n",
    "#from azureml.core import Workspace, Dataset\n",
    "#\n",
    "#import sys\n",
    "#sys.path.append(\"../src/models/pipelines/longterm/scripts/prepdata/trip\")\n",
    "#from src.models.pipelines.longterm.scripts.prepdata.trip import trip_id\n",
    "#workspace = Workspace.from_config()\n",
    "#dataset = Dataset.get_by_name(workspace, name='tycho_short_parquet')\n",
    "#df = trip_id.get(dataset=dataset)"
   ]
  },
  {
   "cell_type": "code",
   "execution_count": null,
   "metadata": {},
   "outputs": [],
   "source": [
    "#name='tycho_short_parquet'\n",
    "name = '2020-01-01-till-2021-02-28-tycho-brahe'\n",
    "\n",
    "df = prepare_dataset.get_dask(name=name)"
   ]
  },
  {
   "cell_type": "code",
   "execution_count": null,
   "metadata": {},
   "outputs": [],
   "source": [
    "df.head()"
   ]
  },
  {
   "cell_type": "code",
   "execution_count": null,
   "metadata": {},
   "outputs": [],
   "source": [
    "ds = prepare_dataset.get_dataset(name=name, n_rows=None)\n",
    "\n",
    "df = ds.to_dask_dataframe(sample_size=1000000, dtypes=None, on_error='null', out_of_range_datetime='null')"
   ]
  },
  {
   "cell_type": "code",
   "execution_count": null,
   "metadata": {},
   "outputs": [],
   "source": [
    "df.npartitions"
   ]
  },
  {
   "cell_type": "code",
   "execution_count": null,
   "metadata": {},
   "outputs": [],
   "source": [
    "target_name = f'{name}_id'\n",
    "output_path =f'{target_name}.parquet'\n",
    "trip_id.save_numbered_trips(df=df, output_path=output_path)"
   ]
  },
  {
   "cell_type": "markdown",
   "metadata": {},
   "source": [
    "## Save trips\n",
    "Save a new dataset with *trip_no*, *trip_time* and correct column names etc."
   ]
  },
  {
   "cell_type": "code",
   "execution_count": null,
   "metadata": {},
   "outputs": [],
   "source": [
    "from azureml.core import Workspace, Dataset, Datastore\n",
    "\n",
    "workspace = Workspace.from_config()\n",
    "datastore = workspace.get_default_datastore()\n"
   ]
  },
  {
   "cell_type": "code",
   "execution_count": null,
   "metadata": {},
   "outputs": [],
   "source": []
  },
  {
   "cell_type": "code",
   "execution_count": null,
   "metadata": {},
   "outputs": [],
   "source": [
    "#datastore.upload_files([parquet_file], target_path='tycho_short_id', overwrite=True)\n",
    "target_path = target_name\n",
    "datastore.upload_files([parquet_file], target_path=target_path, overwrite=True)"
   ]
  },
  {
   "cell_type": "markdown",
   "metadata": {},
   "source": [
    "# Load trips"
   ]
  },
  {
   "cell_type": "code",
   "execution_count": null,
   "metadata": {},
   "outputs": [],
   "source": [
    "datastore_paths = [(datastore, target_path),]\n",
    "                   \n",
    "ds = Dataset.Tabular.from_parquet_files(datastore_paths)\n",
    "ds.register(workspace=workspace, name=target_path, description='data with numbered trips')\n"
   ]
  },
  {
   "cell_type": "code",
   "execution_count": null,
   "metadata": {},
   "outputs": [],
   "source": [
    "df2 = ds.to_pandas_dataframe()\n",
    "df2.time = pd.to_datetime(df2.time)\n",
    "df2.set_index('time', inplace=True)\n",
    "#df2.sort_index(inplace=True)"
   ]
  },
  {
   "cell_type": "code",
   "execution_count": null,
   "metadata": {},
   "outputs": [],
   "source": [
    "df2.head()"
   ]
  },
  {
   "cell_type": "code",
   "execution_count": null,
   "metadata": {},
   "outputs": [],
   "source": [
    "df2.tail()"
   ]
  },
  {
   "cell_type": "code",
   "execution_count": null,
   "metadata": {},
   "outputs": [],
   "source": [
    "groups = df2.groupby(by='trip_no')\n",
    "df2['trip_time'] = groups['trip_no'].transform(lambda x : x.index - x.index[0])\n",
    "groups = df2.groupby(by='trip_no')\n",
    "\n",
    "\n",
    "df_3 = groups.resample('60S').mean()\n",
    "df_3.dropna(inplace=True)\n",
    "\n",
    "df_3.index = df_3.index.get_level_values(1)\n",
    "df_3['trip_time'] = groups['trip_no'].transform(lambda x : x.index - x.index[0] )\n",
    "\n",
    "\n"
   ]
  },
  {
   "cell_type": "code",
   "execution_count": null,
   "metadata": {},
   "outputs": [],
   "source": [
    "fig = px.line(df_3, x='trip_time', y='sog', template=\"plotly_dark\", color='trip_no', width=1500, height=400)\n",
    "fig.show()"
   ]
  },
  {
   "cell_type": "code",
   "execution_count": null,
   "metadata": {},
   "outputs": [],
   "source": [
    "trip = groups.get_group(12)\n",
    "fig = px.line(trip, x='trip_time', y=['cog','heading'], template=\"plotly_dark\", width=1500, height=400)\n",
    "fig.show()"
   ]
  },
  {
   "cell_type": "code",
   "execution_count": null,
   "metadata": {},
   "outputs": [],
   "source": [
    "trip = groups.get_group(13)\n",
    "fig = px.line(trip, x='trip_time', y=['cog','heading'], template=\"plotly_dark\", width=1500, height=400)\n",
    "fig.show()"
   ]
  }
 ],
 "metadata": {
  "kernel_info": {
   "name": "python38-azureml"
  },
  "kernelspec": {
   "display_name": "Python 3",
   "language": "python",
   "name": "python3"
  },
  "language_info": {
   "codemirror_mode": {
    "name": "ipython",
    "version": 3
   },
   "file_extension": ".py",
   "mimetype": "text/x-python",
   "name": "python",
   "nbconvert_exporter": "python",
   "pygments_lexer": "ipython3",
   "version": "3.8.8"
  },
  "metadata": {
   "interpreter": {
    "hash": "1af9919311219ec039f6aa4a644c204a4b4e1e8e730770ba7f65632752293606"
   }
  },
  "microsoft": {
   "host": {
    "AzureML": {
     "notebookHasBeenCompleted": true
    }
   }
  },
  "nteract": {
   "version": "nteract-front-end@1.0.0"
  }
 },
 "nbformat": 4,
 "nbformat_minor": 4
}

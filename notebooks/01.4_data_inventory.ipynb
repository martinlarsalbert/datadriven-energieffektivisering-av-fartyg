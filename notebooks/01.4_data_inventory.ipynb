{
 "cells": [
  {
   "cell_type": "markdown",
   "metadata": {},
   "source": [
    "## Analyzing Hamlet"
   ]
  },
  {
   "cell_type": "code",
   "execution_count": null,
   "metadata": {},
   "outputs": [],
   "source": [
    "%load_ext autoreload\n",
    "%autoreload 2"
   ]
  },
  {
   "cell_type": "code",
   "execution_count": null,
   "metadata": {},
   "outputs": [],
   "source": [
    "import src.data\n",
    "import numpy as np\n",
    "import pandas as pd\n",
    "import matplotlib.pyplot as plt\n",
    "import seaborn as sns\n",
    "import os\n",
    "from collections import OrderedDict\n",
    "\n",
    "from IPython.display import display\n",
    "\n",
    "pd.options.display.max_rows = 999\n",
    "pd.options.display.max_columns = 999\n",
    "pd.set_option(\"display.max_columns\", None)"
   ]
  },
  {
   "cell_type": "code",
   "execution_count": null,
   "metadata": {},
   "outputs": [],
   "source": [
    "import itertools"
   ]
  },
  {
   "cell_type": "code",
   "execution_count": null,
   "metadata": {},
   "outputs": [],
   "source": [
    "file_names = {\n",
    "    'aurora':'2020-01-01-till-2021-02-24-aurora.csv',\n",
    "    'hamlet':'2020-01-01-till-2021-02-24-hamlet.csv',\n",
    "    'mercandia':'2020-01-01-till-2021-02-24-mercandia-iv.csv',\n",
    "    'tycho-brahe':'2020-01-01-till-2021-02-24-tycho-brahe.csv',\n",
    "}"
   ]
  },
  {
   "cell_type": "code",
   "execution_count": null,
   "metadata": {},
   "outputs": [],
   "source": [
    "dfs = OrderedDict()\n",
    "\n",
    "for ship_name, file_name in file_names.items():\n",
    "    \n",
    "    file_path = os.path.join(src.data.path_ships,file_name)\n",
    "    reader = pd.read_csv(file_path, chunksize=1000, iterator=True)  # Loading a small part of the data\n",
    "    dfs[ship_name] = next(reader)\n",
    "    "
   ]
  },
  {
   "cell_type": "code",
   "execution_count": null,
   "metadata": {},
   "outputs": [],
   "source": [
    "for ship_name, df in dfs.items():\n",
    "    \n",
    "    display(df.describe())\n",
    "    "
   ]
  },
  {
   "cell_type": "code",
   "execution_count": null,
   "metadata": {},
   "outputs": [],
   "source": [
    "file_path = os.path.join(src.data.path_ships,file_names['aurora']) \n",
    "reader = pd.read_csv(file_path, chunksize=1000000, iterator=True)  # Loading a small part of the data\n",
    "df_raw = next(reader)\n",
    "df_raw.set_index('Tidpunkt [UTC]', inplace=True)\n",
    "df_raw.index = pd.to_datetime(df_raw.index)"
   ]
  },
  {
   "cell_type": "code",
   "execution_count": null,
   "metadata": {},
   "outputs": [],
   "source": [
    "mask = df_raw['Fart över grund (kts)']>1\n",
    "df = df_raw.loc[mask].copy()"
   ]
  },
  {
   "cell_type": "code",
   "execution_count": null,
   "metadata": {},
   "outputs": [],
   "source": [
    "df.hist(column='Kurs över grund (deg)', bins=1000)"
   ]
  },
  {
   "cell_type": "code",
   "execution_count": null,
   "metadata": {},
   "outputs": [],
   "source": [
    "mask = df_raw['Kurs över grund (deg)'] < 150\n",
    "df_direction_1 = df.loc[mask]\n",
    "df_direction_1.describe()"
   ]
  },
  {
   "cell_type": "code",
   "execution_count": null,
   "metadata": {},
   "outputs": [],
   "source": [
    "df_direction_1.plot(x='Longitud (deg)', y = 'Latitud (deg)', style='.', alpha=0.005)"
   ]
  },
  {
   "cell_type": "code",
   "execution_count": null,
   "metadata": {},
   "outputs": [],
   "source": [
    "deltas = []\n",
    "for i in range(1,5):\n",
    "    sin_key = 'Sin EM%i ()' % i\n",
    "    cos_key = 'Cos EM%i ()' % i\n",
    "    delta_key = 'delta_%i' % i\n",
    "    deltas.append(delta_key)\n",
    "\n",
    "    df_direction_1[delta_key] = np.arctan2(df_direction_1[sin_key],df_direction_1[cos_key])\n",
    "\n",
    "df_plot = df_direction_1.loc['2020-01-01 01:00':'2020-01-01 02:00']\n",
    "    \n",
    "df_plot.plot(y=['Kurs över grund (deg)','Stävad kurs (deg)'],style='.')\n",
    "df_plot.plot(y='Fart över grund (kts)',style='.')\n",
    "\n",
    "df_plot.plot(y=deltas,style='.')\n",
    "\n"
   ]
  },
  {
   "cell_type": "code",
   "execution_count": null,
   "metadata": {},
   "outputs": [],
   "source": [
    "df_direction_1.head()"
   ]
  },
  {
   "cell_type": "code",
   "execution_count": null,
   "metadata": {},
   "outputs": [],
   "source": [
    "(df_direction_1['Sin EM1 ()']**2 +   df_direction_1['Cos EM1 ()']**2).hist()"
   ]
  },
  {
   "cell_type": "code",
   "execution_count": null,
   "metadata": {},
   "outputs": [],
   "source": [
    "df_direction_1.columns"
   ]
  },
  {
   "cell_type": "code",
   "execution_count": null,
   "metadata": {},
   "outputs": [],
   "source": [
    "\n",
    "descriptions = pd.Series(index = df_direction_1.columns.copy())\n",
    "descriptions['Latitud (deg)'] = 'Latitud (deg) (WGS84?)'\n",
    "descriptions['Longitud (deg)'] = 'Longitud (deg) (WGS84?)'\n",
    "descriptions['Effekt DG Total (kW)'] = '?'\n",
    "descriptions['Effekt EM Thruster Total (kW)'] = ''\n",
    "descriptions['Sin EM1 ()'] = ''\n",
    "descriptions['Sin EM2 ()'] = ''\n",
    "descriptions['Sin EM3 ()'] = ''\n",
    "descriptions['Sin EM4 ()'] = ''\n",
    "descriptions['Cos EM1 ()'] = ''\n",
    "descriptions['Cos EM2 ()'] = ''\n",
    "descriptions['Cos EM3 ()'] = ''\n",
    "descriptions['Cos EM4 ()'] = ''\n",
    "descriptions['Fart över grund (kts)'] = 'GPS fart'\n",
    "descriptions['Stävad kurs (deg)'] = 'Kompas kurs'\n",
    "descriptions['Kurs över grund (deg)'] = 'GPS kurs'\n",
    "descriptions['Effekt hotell Total (kW)'] = ''\n",
    "descriptions['Effekt Consumption Total (kW)'] = ''\n",
    "descriptions['Förbrukning GEN alla (kg/h)'] = '?'\n",
    "descriptions['delta_1'] = 'Thruster angle 1'\n",
    "descriptions['delta_2'] = 'Thruster angle 2'\n",
    "descriptions['delta_3'] = 'Thruster angle 3'\n",
    "descriptions['delta_4'] = 'Thruster angle 4'\n",
    "\n",
    "df_numenclature = pd.DataFrame(descriptions, columns=['Description'])\n",
    "df_numenclature"
   ]
  }
 ],
 "metadata": {
  "kernelspec": {
   "display_name": "Python 3",
   "language": "python",
   "name": "python3"
  },
  "language_info": {
   "codemirror_mode": {
    "name": "ipython",
    "version": 3
   },
   "file_extension": ".py",
   "mimetype": "text/x-python",
   "name": "python",
   "nbconvert_exporter": "python",
   "pygments_lexer": "ipython3",
   "version": "3.8.7"
  }
 },
 "nbformat": 4,
 "nbformat_minor": 4
}

{
 "cells": [
  {
   "cell_type": "markdown",
   "metadata": {},
   "source": [
    "## Analyzing pilot boat"
   ]
  },
  {
   "cell_type": "code",
   "execution_count": null,
   "metadata": {},
   "outputs": [],
   "source": [
    "import src.data\n",
    "import numpy as np\n",
    "import pandas as pd\n",
    "import matplotlib.pyplot as plt\n",
    "import seaborn as sns\n",
    "\n",
    "pd.options.display.max_rows = 999\n",
    "pd.options.display.max_columns = 999\n",
    "pd.set_option(\"display.max_columns\", None)"
   ]
  },
  {
   "cell_type": "code",
   "execution_count": null,
   "metadata": {},
   "outputs": [],
   "source": [
    "reader = pd.read_csv(src.data.path_lots, chunksize=100000, iterator=True)  # Loading a small part of the data\n",
    "df_raw = next(reader)\n",
    "df_raw.set_index('Timestamp [UTC]', inplace=True)"
   ]
  },
  {
   "cell_type": "code",
   "execution_count": null,
   "metadata": {},
   "outputs": [],
   "source": [
    "df_raw.describe()"
   ]
  },
  {
   "cell_type": "code",
   "execution_count": null,
   "metadata": {},
   "outputs": [],
   "source": [
    "mask = df_raw.std() > 0\n",
    "interesting=df_raw.columns[mask]\n",
    "df = df_raw[interesting].copy()\n",
    "\n",
    "mask = df['Speed over ground (kts)']>5\n",
    "df=df.loc[mask]\n",
    "df = df.iloc[0:10000]\n"
   ]
  },
  {
   "cell_type": "code",
   "execution_count": null,
   "metadata": {},
   "outputs": [],
   "source": [
    "df.describe()"
   ]
  },
  {
   "cell_type": "code",
   "execution_count": null,
   "metadata": {},
   "outputs": [],
   "source": [
    "df.columns"
   ]
  },
  {
   "cell_type": "code",
   "execution_count": null,
   "metadata": {},
   "outputs": [],
   "source": [
    "interesting = [\n",
    "              'Consumption ME all (L/h)',\n",
    "               'Economy (L/nm)',\n",
    "               'Speed over ground (kts)',\n",
    "              'Engine speed ME1 (rpm)',\n",
    "              'Engine speed ME2 (rpm)',\n",
    "              \n",
    "              ]\n",
    "data = df[interesting].copy()\n",
    "data.dropna(how='any', inplace = True)"
   ]
  },
  {
   "cell_type": "code",
   "execution_count": null,
   "metadata": {},
   "outputs": [],
   "source": [
    "g = sns.PairGrid(data)\n",
    "g.map_upper(sns.scatterplot)\n",
    "g.map_lower(sns.scatterplot)\n",
    "g.map_diag(sns.kdeplot, lw=3, legend=False);"
   ]
  },
  {
   "cell_type": "code",
   "execution_count": null,
   "metadata": {},
   "outputs": [],
   "source": [
    "#g = sns.PairGrid(data)\n",
    "#g.map_upper(sns.kdeplot)\n",
    "#g.map_lower(sns.kdeplot)\n",
    "#g.map_diag(sns.kdeplot, lw=3, legend=False);"
   ]
  },
  {
   "cell_type": "markdown",
   "metadata": {},
   "source": [
    "## Regression"
   ]
  },
  {
   "cell_type": "code",
   "execution_count": null,
   "metadata": {},
   "outputs": [],
   "source": [
    "from sklearn.feature_selection import SelectKBest\n",
    "from sklearn.feature_selection import f_regression\n",
    "from sklearn.preprocessing import StandardScaler\n",
    "from sklearn.preprocessing import PolynomialFeatures\n",
    "from sklearn.pipeline import Pipeline\n",
    "from sklearn.model_selection import cross_val_score\n",
    "from sklearn.model_selection import RepeatedKFold\n",
    "from sklearn.linear_model import LinearRegression\n",
    "\n",
    "select_k_best = SelectKBest(score_func=f_regression, k=4)\n",
    "standard_scaler = StandardScaler()\n",
    "polynomial_features = PolynomialFeatures(degree=2)\n",
    "linear_regression = LinearRegression()\n",
    "\n",
    "steps = [\n",
    "    ('scaler', standard_scaler),\n",
    "    ('polynomial_features', polynomial_features),\n",
    "    ('select_k_best', select_k_best),\n",
    "    ('linear_regression', linear_regression),\n",
    "]\n",
    "\n",
    "pipeline_polynomial_scaled_selection = Pipeline(steps=steps)"
   ]
  },
  {
   "cell_type": "code",
   "execution_count": null,
   "metadata": {},
   "outputs": [],
   "source": []
  },
  {
   "cell_type": "code",
   "execution_count": null,
   "metadata": {},
   "outputs": [],
   "source": [
    "n = 3\n",
    "degree = 3\n",
    "polynomial_features = PolynomialFeatures(degree=degree)\n",
    "polynomial_features.fit(np.array([np.arange(n)]))\n",
    "polynomial_features.get_feature_names()"
   ]
  },
  {
   "cell_type": "code",
   "execution_count": null,
   "metadata": {},
   "outputs": [],
   "source": [
    "#X = data[['Speed over ground (kts)']].copy()\n",
    "#X['Engine speed'] = (data['Engine speed ME1 (rpm)'] + data['Engine speed ME2 (rpm)'])/2\n",
    "#y = data['Consumption ME all (L/h)']                        \n",
    "\n",
    "X = data[['Consumption ME all (L/h)']].copy()\n",
    "X['Engine speed'] = (data['Engine speed ME1 (rpm)'] + data['Engine speed ME2 (rpm)'])/2\n",
    "y = data['Speed over ground (kts)']       "
   ]
  },
  {
   "cell_type": "code",
   "execution_count": null,
   "metadata": {},
   "outputs": [],
   "source": [
    "from sklearn.model_selection import GridSearchCV\n",
    "\n",
    "# Decide how many k\n",
    "max_degree = 5\n",
    "no_features = len(X.columns)\n",
    "polynomial_features = PolynomialFeatures(degree=max_degree)\n",
    "polynomial_features.fit(np.array([np.arange(no_features)]))\n",
    "max_k = len(polynomial_features.get_feature_names())\n",
    "\n",
    "\n",
    "# define the grid\n",
    "grid = dict()\n",
    "grid['select_k_best__k'] = [i for i in range(1, max_k+1)]\n",
    "grid['polynomial_features__degree'] = [i for i in range(1, max_degree+1)]\n",
    "\n",
    "from sklearn.model_selection import RepeatedKFold\n",
    "cv = RepeatedKFold(n_splits=5, n_repeats=10, random_state=1)\n",
    "\n",
    "# define the grid search\n",
    "search = GridSearchCV(estimator=pipeline_polynomial_scaled_selection, param_grid=grid, scoring='neg_mean_absolute_error', n_jobs=-1, cv=cv)\n",
    "#search = GridSearchCV(estimator=pipeline_polynomial_scaled_selection, param_grid=grid, scoring='r2', n_jobs=-1, cv=cv)\n",
    "# perform the search\n",
    "search_result = search.fit(X, y)"
   ]
  },
  {
   "cell_type": "code",
   "execution_count": null,
   "metadata": {},
   "outputs": [],
   "source": [
    "model = search_result.best_estimator_"
   ]
  },
  {
   "cell_type": "code",
   "execution_count": null,
   "metadata": {},
   "outputs": [],
   "source": [
    "search_result.cv_results_['mean_test_score']"
   ]
  },
  {
   "cell_type": "code",
   "execution_count": null,
   "metadata": {},
   "outputs": [],
   "source": [
    "search_result.cv_results_['std_test_score']"
   ]
  },
  {
   "cell_type": "code",
   "execution_count": null,
   "metadata": {},
   "outputs": [],
   "source": [
    "search_result.cv_results_['params']"
   ]
  },
  {
   "cell_type": "code",
   "execution_count": null,
   "metadata": {},
   "outputs": [],
   "source": [
    "cv_results_ = search_result.cv_results_\n",
    "df_search = pd.DataFrame()\n",
    "for param, mean_test_score, std_test_score in zip(cv_results_['params'],cv_results_['mean_test_score'],cv_results_['std_test_score']):\n",
    "    r_ = pd.Series(param)\n",
    "    r_['mean_test_score'] = mean_test_score\n",
    "    r_['std_test_score'] = std_test_score\n",
    "    df_search = df_search.append(r_, ignore_index=True)\n"
   ]
  },
  {
   "cell_type": "code",
   "execution_count": null,
   "metadata": {},
   "outputs": [],
   "source": [
    "\n",
    "\n",
    "for k, group in df_search.groupby('select_k_best__k'):\n",
    "    \n",
    "    fig,ax=plt.subplots()\n",
    "    label = 'k:%i' % k\n",
    "    ax.errorbar(group['polynomial_features__degree'], group['mean_test_score'], yerr=group['std_test_score'], linestyle='None', marker='.')\n",
    "    \n",
    "    ax.set_title(label)\n",
    "    ax.grid()\n",
    "    "
   ]
  },
  {
   "cell_type": "code",
   "execution_count": null,
   "metadata": {},
   "outputs": [],
   "source": [
    "import sklearn\n",
    "\n",
    "def find_polynomial_feature(model):\n",
    "    found = False\n",
    "    for part in model:\n",
    "        if isinstance(part, PolynomialFeatures):\n",
    "            polynomial_features = part\n",
    "            found = True\n",
    "            break\n",
    "    if not found:\n",
    "        raise ValueError('model pipeline must contain an instance of PolynomialFeatures')\n",
    "    \n",
    "    return polynomial_features\n",
    "\n",
    "def find_select_k_best(model):\n",
    "    found = False\n",
    "    for part in model:\n",
    "        if isinstance(part, SelectKBest):\n",
    "            select_k_best = part\n",
    "            found = True\n",
    "            break\n",
    "    if not found:\n",
    "        raise ValueError('model pipeline must contain an instance of SelectKBest')\n",
    "        \n",
    "    return select_k_best\n",
    "\n",
    "def model_to_string(model:sklearn.pipeline.Pipeline, feature_names:list, divide=' '):\n",
    "    \n",
    "    # Find polynomial features:\n",
    "    polynomial_features = find_polynomial_feature(model=model)\n",
    "    \n",
    "    # Find select_k_best:\n",
    "    select_k_best = find_select_k_best(model=model)\n",
    "    \n",
    "    polynomial_feature_names = np.array(polynomial_features.get_feature_names())\n",
    "    best_polynomial_feature_names = polynomial_feature_names[select_k_best.get_support()]\n",
    "    \n",
    "    predictor = model[-1]  # Last item in the pipeline is assumed to be the precictor\n",
    "    coefficients = predictor.coef_\n",
    "    interception = predictor.intercept_\n",
    "    \n",
    "    x_names = ['x%i'%i for i in range(len(feature_names))]\n",
    "    \n",
    "    expression = ''\n",
    "    expression+='%f' % interception\n",
    "    for part,coefficient in zip(best_polynomial_feature_names,coefficients):\n",
    "        \n",
    "        nice_part = part.replace(' ','*')\n",
    "        super_nice_part = nice_part\n",
    "        for feature_name,x in zip(feature_names,x_names):\n",
    "            super_nice_part=super_nice_part.replace(x,feature_name)\n",
    "        \n",
    "        if coefficient==0:\n",
    "            continue\n",
    "        elif coefficient<0:\n",
    "            sign=''\n",
    "        else:\n",
    "            sign='+'\n",
    "        \n",
    "        sub_part = '%s%s%s%f*%s' % (divide,sign,divide,coefficient,super_nice_part)\n",
    "    \n",
    "        \n",
    "        expression+=sub_part\n",
    "    \n",
    "    return expression\n",
    "\n",
    "print(model_to_string(model=model, feature_names=features))"
   ]
  },
  {
   "cell_type": "code",
   "execution_count": null,
   "metadata": {},
   "outputs": [],
   "source": [
    "scores = cross_val_score(estimator=model, X=X, y=y, scoring='r2', cv=cv, n_jobs=-1)\n",
    "\n",
    "fig,ax = plt.subplots()\n",
    "ax.hist(scores);\n",
    "ax.set_xlabel('score')\n",
    "ax.set_ylabel('occurances')\n",
    "ax.set_title('Histogram over cross validations');"
   ]
  },
  {
   "cell_type": "code",
   "execution_count": null,
   "metadata": {},
   "outputs": [],
   "source": [
    "result = X.copy()\n",
    "result['y_true'] = y\n",
    "result['y_pred'] = model.predict(X=X)\n",
    "\n",
    "fig,axes=plt.subplots(ncols=len(X.columns))\n",
    "for x,ax in zip(X, axes):\n",
    "    result.plot(x=x, y='y_true', ax=ax, style='.')\n",
    "    result.plot(x=x, y='y_pred', ax=ax, style='.', alpha=0.2)\n",
    "    "
   ]
  },
  {
   "cell_type": "markdown",
   "metadata": {},
   "source": [
    "## Speed model"
   ]
  },
  {
   "cell_type": "code",
   "execution_count": null,
   "metadata": {},
   "outputs": [],
   "source": [
    "X = data[['Speed over ground (kts)']].copy()\n",
    "y = data['Consumption ME all (L/h)']  "
   ]
  },
  {
   "cell_type": "code",
   "execution_count": null,
   "metadata": {},
   "outputs": [],
   "source": [
    "from sklearn.model_selection import GridSearchCV\n",
    "\n",
    "# define the grid\n",
    "grid = dict()\n",
    "grid['select_k_best__k'] = [i for i in range(1, X.shape[1]+1)]\n",
    "grid['polynomial_features__degree'] = [i for i in range(1, 10)]\n",
    "\n",
    "from sklearn.model_selection import RepeatedKFold\n",
    "cv = RepeatedKFold(n_splits=5, n_repeats=10, random_state=1)\n",
    "\n",
    "# define the grid search\n",
    "search = GridSearchCV(estimator=pipeline_polynomial_scaled_selection, param_grid=grid, scoring='neg_mean_absolute_error', n_jobs=-1, cv=cv)\n",
    "#search = GridSearchCV(estimator=pipeline_polynomial_scaled_selection, param_grid=grid, scoring='r2', n_jobs=-1, cv=cv)\n",
    "# perform the search\n",
    "search_result = search.fit(X, y)"
   ]
  }
 ],
 "metadata": {
  "kernelspec": {
   "display_name": "Python 3",
   "language": "python",
   "name": "python3"
  },
  "language_info": {
   "codemirror_mode": {
    "name": "ipython",
    "version": 3
   },
   "file_extension": ".py",
   "mimetype": "text/x-python",
   "name": "python",
   "nbconvert_exporter": "python",
   "pygments_lexer": "ipython3",
   "version": "3.6.8"
  }
 },
 "nbformat": 4,
 "nbformat_minor": 4
}

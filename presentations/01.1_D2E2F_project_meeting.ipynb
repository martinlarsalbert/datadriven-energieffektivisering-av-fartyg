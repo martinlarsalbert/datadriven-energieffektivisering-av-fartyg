{
 "cells": [
  {
   "cell_type": "markdown",
   "metadata": {
    "slideshow": {
     "slide_type": "slide"
    }
   },
   "source": [
    "# D2E2F: Helsingborg-Helsingør\n",
    "(2021-04-23)"
   ]
  },
  {
   "cell_type": "code",
   "execution_count": null,
   "metadata": {
    "gather": {
     "logged": 1618500219438
    },
    "slideshow": {
     "slide_type": "skip"
    }
   },
   "outputs": [],
   "source": [
    "#%load imports.py\n",
    "%matplotlib inline\n",
    "%load_ext autoreload\n",
    "%autoreload 2\n",
    "\n",
    "import numpy as np\n",
    "import pandas as pd\n",
    "import matplotlib.pyplot as plt\n",
    "from matplotlib.gridspec import GridSpec\n",
    "plt.rcParams[\"figure.figsize\"] = (20,3)\n",
    "plt.style.use('presentation')\n",
    "\n",
    "#import seaborn as sns\n",
    "import os\n",
    "from collections import OrderedDict\n",
    "\n",
    "from IPython.display import display\n",
    "\n",
    "pd.options.display.max_rows = 999\n",
    "pd.options.display.max_columns = 999\n",
    "pd.set_option(\"display.max_columns\", None)\n",
    "\n",
    "import folium\n",
    "import plotly.express as px\n",
    "import plotly.graph_objects as go\n",
    "\n",
    "import sys\n",
    "import os\n",
    "sys.path.append('../')\n",
    "from src.visualization import visualize\n",
    "from src.data import get_dataset\n",
    "from src.data import prepare_dataset\n",
    "from src.data import trips\n",
    "import scipy.integrate\n",
    "import seaborn as sns\n",
    "from ipywidgets import Layout, interact, IntSlider"
   ]
  },
  {
   "cell_type": "code",
   "execution_count": null,
   "metadata": {
    "gather": {
     "logged": 1618500116933
    }
   },
   "outputs": [],
   "source": [
    "df = get_dataset.get(name='tycho_short_id')"
   ]
  },
  {
   "cell_type": "markdown",
   "metadata": {},
   "source": [
    "## Plot trips"
   ]
  },
  {
   "cell_type": "code",
   "execution_count": null,
   "metadata": {
    "gather": {
     "logged": 1618500118189
    }
   },
   "outputs": [],
   "source": [
    "visualize.plot_map(df=df, width=1400, height=800, zoom_start=14)"
   ]
  },
  {
   "cell_type": "markdown",
   "metadata": {},
   "source": [
    "## Trip statistics"
   ]
  },
  {
   "cell_type": "code",
   "execution_count": null,
   "metadata": {},
   "outputs": [],
   "source": [
    "df_stat = get_dataset.trip_statistics()"
   ]
  },
  {
   "cell_type": "code",
   "execution_count": null,
   "metadata": {},
   "outputs": [],
   "source": [
    "df_stat_plot = df_stat.copy()\n",
    "\n",
    "df_stat_plot['energy per trip [Nm]'] = df_stat_plot['power_em_thruster_total']\n",
    "\n",
    "df_stat_plot['trip_direction'] = df_stat_plot['trip_direction'].apply(lambda x : 'Helsingør-Helsingborg' if x==0 else 'Helsingborg-Helsingør')\n",
    "\n",
    "fig = px.scatter(df_stat_plot, x='start_time',y='energy per trip [Nm]', color='trip_direction', width=1500, height=600, \n",
    "                color_discrete_sequence=['red','green'])\n",
    "fig.show()"
   ]
  },
  {
   "cell_type": "markdown",
   "metadata": {},
   "source": [
    "## Analyzing trips"
   ]
  },
  {
   "cell_type": "code",
   "execution_count": null,
   "metadata": {},
   "outputs": [],
   "source": [
    "fig = px.line(df, x='trip_time', y='sog', color='trip_no', width=1500, height=800)\n",
    "fig.show()"
   ]
  },
  {
   "cell_type": "code",
   "execution_count": null,
   "metadata": {},
   "outputs": [],
   "source": [
    "def plot_thruster(ax, x,y,cos,sin, power, scale=20):\n",
    "    \n",
    "    l = power*scale\n",
    "    ax.arrow(x=x, y=y, dx=-l*sin, dy=-l*cos, head_width=l/5, head_length=l/5)\n",
    "    \n",
    "def plot_thrust_allocation(row, lpp=50, beam=20, scale=30):\n",
    "    \n",
    "    #fig,axes=plt.subplots(ncols=2)\n",
    "    fig = plt.figure(constrained_layout=True)\n",
    "    fig.set_size_inches(20,10)\n",
    "    \n",
    "    gs = GridSpec(2, 2, figure=fig)\n",
    "    ax1 = fig.add_subplot(gs[:, 0])\n",
    "    # identical to ax1 = plt.subplot(gs.new_subplotspec((0, 0), colspan=3))\n",
    "    ax2 = fig.add_subplot(gs[0, 1])\n",
    "    ax3 = fig.add_subplot(gs[1:, 1])\n",
    "    \n",
    "    ax = ax1    \n",
    "    positions = np.array([\n",
    "        [-1,-1],\n",
    "        [1,-1],\n",
    "        [1,1],\n",
    "        [-1,1],\n",
    "        \n",
    "    ])\n",
    "    \n",
    "    coordinates = np.array([positions[:,0]*beam/2, positions[:,1]*lpp/2] ).T\n",
    "        \n",
    "    \n",
    "    for i,position in enumerate(coordinates):\n",
    "        \n",
    "        n=i+1\n",
    "        sin_key = 'sin_pm%i' % n\n",
    "        cos_key = 'cos_pm%i' % n\n",
    "        power_key = 'power_em_thruster_%i' % n\n",
    "                \n",
    "        plot_thruster(ax=ax, x=position[0], y=position[1], cos=row[cos_key], sin=row[sin_key], power=row[power_key], scale=scale)\n",
    "        \n",
    "    \n",
    "    ax.set_xlim(np.min(coordinates[:,0])-scale,np.max(coordinates[:,0])+scale)\n",
    "    ax.set_ylim(np.min(coordinates[:,1])-scale,np.max(coordinates[:,1])+scale)\n",
    "    #ax.set_aspect('equal', 'box')\n",
    "    \n",
    "    ## Second plot:\n",
    "    ax = ax2\n",
    "    trip_.plot(x='longitude', y='latitude', ax=ax, style='k--')\n",
    "    ax.plot(row['longitude'], row['latitude'], 'o', ms=15)\n",
    "    \n",
    "    ax.set_ylim(trip_['latitude'].min(), trip_['latitude'].max())\n",
    "    ax.set_xlim(trip_['longitude'].min(), trip_['longitude'].max())\n",
    "    #ax.set_aspect('equal')\n",
    "    \n",
    "    ## Third plot:\n",
    "    trip_.plot(x='trip_time_s', y='sog', ax=ax3, style='k--')\n",
    "    ax3.plot(row['trip_time_s'], row['sog'], 'o', ms=15)\n",
    "    ax3.set_xlabel('Time [s]')\n",
    "    ax3.set_ylabel('Ship speed [m/s]')\n",
    "   \n",
    "def get_animation(trip_):\n",
    "    def animate(i=0):\n",
    "        \n",
    "        index = int(i)\n",
    "        row = trip_.iloc[index]\n",
    "        plot_thrust_allocation(row=row)\n",
    "        \n",
    "    return animate\n",
    "         "
   ]
  },
  {
   "cell_type": "markdown",
   "metadata": {
    "slideshow": {
     "slide_type": "skip"
    }
   },
   "source": [
    "## Load trip no. 3"
   ]
  },
  {
   "cell_type": "code",
   "execution_count": null,
   "metadata": {
    "slideshow": {
     "slide_type": "skip"
    }
   },
   "outputs": [],
   "source": [
    "trips = df.groupby(by='trip_no')\n",
    "trip = trips.get_group(3)\n",
    "\n",
    "trip_ = trip.copy()\n",
    "trip_ = prepare_dataset.calculate_rudder_angles(df=trip_, drop=False)\n",
    "trip_['trip_time_s'] = pd.TimedeltaIndex(trip_['trip_time']).total_seconds()\n",
    "\n",
    "power_columns = ['power_em_thruster_%i' % i for i in range(1,5)]\n",
    "trip_[power_columns]/=trip_['power_em_thruster_total'].max()/4\n",
    "trip_3 = trip_.copy()"
   ]
  },
  {
   "cell_type": "code",
   "execution_count": null,
   "metadata": {
    "slideshow": {
     "slide_type": "slide"
    }
   },
   "outputs": [],
   "source": [
    "visualize.plot_map(df=trip_3, width=1400, height=800, zoom_start=14)"
   ]
  },
  {
   "cell_type": "code",
   "execution_count": null,
   "metadata": {},
   "outputs": [],
   "source": [
    "aminate_1 = get_animation(trip_3)\n",
    "interact(aminate_1, i = IntSlider(0,0,len(trip_)-1,1, layout=Layout(width='100%')));   "
   ]
  },
  {
   "cell_type": "markdown",
   "metadata": {
    "slideshow": {
     "slide_type": "skip"
    }
   },
   "source": [
    "## Load trip no. 110"
   ]
  },
  {
   "cell_type": "code",
   "execution_count": null,
   "metadata": {
    "slideshow": {
     "slide_type": "skip"
    }
   },
   "outputs": [],
   "source": [
    "trips = df.groupby(by='trip_no')\n",
    "trip = trips.get_group(110)\n",
    "\n",
    "trip_ = trip.copy()\n",
    "trip_ = prepare_dataset.calculate_rudder_angles(df=trip_, drop=False)\n",
    "trip_['trip_time_s'] = pd.TimedeltaIndex(trip_['trip_time']).total_seconds()\n",
    "\n",
    "power_columns = ['power_em_thruster_%i' % i for i in range(1,5)]\n",
    "trip_[power_columns]/=trip_['power_em_thruster_total'].max()/4\n",
    "trip_110 = trip_.copy()"
   ]
  },
  {
   "cell_type": "code",
   "execution_count": null,
   "metadata": {
    "slideshow": {
     "slide_type": "slide"
    }
   },
   "outputs": [],
   "source": [
    "visualize.plot_map(df=trip_110, width=1400, height=800, zoom_start=14)"
   ]
  },
  {
   "cell_type": "code",
   "execution_count": null,
   "metadata": {},
   "outputs": [],
   "source": [
    "aminate_1 = get_animation(trip_110)\n",
    "interact(aminate_1, i = IntSlider(0,0,len(trip_)-1,1, layout=Layout(width='100%')));   "
   ]
  },
  {
   "cell_type": "markdown",
   "metadata": {},
   "source": [
    "## Is there a more optimal thruster operation?"
   ]
  },
  {
   "cell_type": "markdown",
   "metadata": {},
   "source": [
    "![](https://memegenerator.net/img/images/15921176.jpg)"
   ]
  }
 ],
 "metadata": {
  "celltoolbar": "Slideshow",
  "kernel_info": {
   "name": "python38-azureml"
  },
  "kernelspec": {
   "display_name": "Python 3",
   "language": "python",
   "name": "python3"
  },
  "language_info": {
   "codemirror_mode": {
    "name": "ipython",
    "version": 3
   },
   "file_extension": ".py",
   "mimetype": "text/x-python",
   "name": "python",
   "nbconvert_exporter": "python",
   "pygments_lexer": "ipython3",
   "version": "3.8.7"
  },
  "metadata": {
   "interpreter": {
    "hash": "1af9919311219ec039f6aa4a644c204a4b4e1e8e730770ba7f65632752293606"
   }
  },
  "microsoft": {
   "host": {
    "AzureML": {
     "notebookHasBeenCompleted": true
    }
   }
  },
  "nteract": {
   "version": "nteract-front-end@1.0.0"
  },
  "rise": {
   "autolaunch": true,
   "enable_chalkboard": true,
   "scroll": true,
   "theme": "black",
   "transition": "zoom"
  },
  "toc": {
   "base_numbering": 1,
   "nav_menu": {},
   "number_sections": true,
   "sideBar": true,
   "skip_h1_title": false,
   "title_cell": "Table of Contents",
   "title_sidebar": "Contents",
   "toc_cell": false,
   "toc_position": {},
   "toc_section_display": true,
   "toc_window_display": false
  }
 },
 "nbformat": 4,
 "nbformat_minor": 4
}

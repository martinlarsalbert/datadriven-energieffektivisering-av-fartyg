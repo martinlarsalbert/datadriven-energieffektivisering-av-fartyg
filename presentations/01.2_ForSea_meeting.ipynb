{
 "cells": [
  {
   "cell_type": "markdown",
   "metadata": {
    "slideshow": {
     "slide_type": "slide"
    }
   },
   "source": [
    "# D2E2F: ForSea meeting\n",
    "(2021-04-29)\n",
    "\n",
    "### 1) Utveckla simuleringsmodell med Machine Learning\n",
    "### 2) Använda simuleringsmodell för att optimera thrustrar \n",
    "\n",
    "### 3) Analysarbete\n",
    "#### a) Långtidsanalys: dagar/veckor/månader/år\n",
    "#### b) Förbättring med \"Smart Eco-shipping\"\n",
    "#### c) Korttidsanalys: farygsdynamik under resa\n",
    "\n",
    "### 4) PhD Chalmers paper\n",
    "### 5) \"Förstå\" datan\n",
    "![](figures/I_want_to_understand.png)"
   ]
  },
  {
   "cell_type": "code",
   "execution_count": null,
   "metadata": {
    "gather": {
     "logged": 1618500219438
    },
    "slideshow": {
     "slide_type": "skip"
    }
   },
   "outputs": [],
   "source": [
    "#%load imports.py\n",
    "%matplotlib inline\n",
    "%load_ext autoreload\n",
    "%autoreload 2\n",
    "\n",
    "import numpy as np\n",
    "import pandas as pd\n",
    "import matplotlib.pyplot as plt\n",
    "plt.rcParams[\"figure.figsize\"] = (20,3)\n",
    "plt.style.use('presentation')\n",
    "\n",
    "#import seaborn as sns\n",
    "import os\n",
    "from collections import OrderedDict\n",
    "\n",
    "from IPython.display import display\n",
    "\n",
    "pd.options.display.max_rows = 999\n",
    "pd.options.display.max_columns = 999\n",
    "pd.set_option(\"display.max_columns\", None)\n",
    "\n",
    "import folium\n",
    "import plotly.express as px\n",
    "import plotly.graph_objects as go\n",
    "\n",
    "import sys\n",
    "import os\n",
    "sys.path.append('../')\n",
    "from src.visualization import visualize, animate\n",
    "from src.data import get_dataset\n",
    "from src.data import prepare_dataset\n",
    "from src.data import trips\n",
    "\n",
    "\n",
    "import scipy.integrate\n",
    "import seaborn as sns"
   ]
  },
  {
   "cell_type": "code",
   "execution_count": null,
   "metadata": {
    "gather": {
     "logged": 1618500116933
    }
   },
   "outputs": [],
   "source": [
    "df = get_dataset.get(name='tycho_short_id')"
   ]
  },
  {
   "cell_type": "markdown",
   "metadata": {},
   "source": [
    "## Plot trips"
   ]
  },
  {
   "cell_type": "code",
   "execution_count": null,
   "metadata": {
    "gather": {
     "logged": 1618500118189
    }
   },
   "outputs": [],
   "source": [
    "visualize.plot_trips(df=df, width=1400, height=800, zoom_start=14, color_key='trip_direction')"
   ]
  },
  {
   "cell_type": "markdown",
   "metadata": {},
   "source": [
    "## Varför åker man inte raka vägen?"
   ]
  },
  {
   "cell_type": "markdown",
   "metadata": {},
   "source": [
    "## Trip statistics"
   ]
  },
  {
   "cell_type": "code",
   "execution_count": null,
   "metadata": {},
   "outputs": [],
   "source": [
    "df_stat = get_dataset.trip_statistics()"
   ]
  },
  {
   "cell_type": "code",
   "execution_count": null,
   "metadata": {},
   "outputs": [],
   "source": [
    "df_stat_plot = df_stat.copy()\n",
    "\n",
    "df_stat_plot['energy per trip [Nm]'] = df_stat_plot['power_em_thruster_total']\n",
    "\n",
    "df_stat_plot['trip_direction'] = df_stat_plot['trip_direction'].apply(lambda x : 'Helsingør-Helsingborg' if x==0 else 'Helsingborg-Helsingør')\n",
    "\n",
    "fig = px.scatter(df_stat_plot, x='start_time',y='energy per trip [Nm]', color='trip_direction', width=1500, height=600, \n",
    "                color_discrete_sequence=['red','green'])\n",
    "fig.show()"
   ]
  },
  {
   "cell_type": "markdown",
   "metadata": {},
   "source": [
    "## Analyzing trips"
   ]
  },
  {
   "cell_type": "code",
   "execution_count": null,
   "metadata": {},
   "outputs": [],
   "source": [
    "fig = px.line(df, x='trip_time', y='sog', color='trip_no', width=1500, height=800)\n",
    "fig.show()"
   ]
  },
  {
   "cell_type": "markdown",
   "metadata": {},
   "source": [
    "![](animations/trip_101.gif \"101\")"
   ]
  },
  {
   "cell_type": "markdown",
   "metadata": {
    "slideshow": {
     "slide_type": "skip"
    }
   },
   "source": [
    "## Look at one trip"
   ]
  },
  {
   "cell_type": "code",
   "execution_count": null,
   "metadata": {
    "slideshow": {
     "slide_type": "skip"
    }
   },
   "outputs": [],
   "source": [
    "trips = df.groupby(by='trip_no')\n",
    "trip_no = 129\n",
    "trip = trips.get_group(trip_no)"
   ]
  },
  {
   "cell_type": "code",
   "execution_count": null,
   "metadata": {
    "slideshow": {
     "slide_type": "slide"
    }
   },
   "outputs": [],
   "source": [
    "visualize.plot_map(df=trip, width=1400, height=800, zoom_start=14, color_key='trip_direction')"
   ]
  },
  {
   "cell_type": "code",
   "execution_count": null,
   "metadata": {},
   "outputs": [],
   "source": [
    "trip[[f'sin_pm{i}' for i in range(1,5)]].isnull().any()"
   ]
  },
  {
   "cell_type": "code",
   "execution_count": null,
   "metadata": {},
   "outputs": [],
   "source": [
    "trip[['cog','heading','sog']].isnull().any()"
   ]
  },
  {
   "cell_type": "code",
   "execution_count": null,
   "metadata": {},
   "outputs": [],
   "source": [
    "animate.widget(trip=trip)"
   ]
  },
  {
   "cell_type": "markdown",
   "metadata": {},
   "source": [
    "## Is there a more optimal thruster operation?"
   ]
  },
  {
   "cell_type": "markdown",
   "metadata": {},
   "source": [
    "![](https://memegenerator.net/img/images/15921176.jpg)"
   ]
  },
  {
   "cell_type": "markdown",
   "metadata": {},
   "source": [
    "## Thruster positions?"
   ]
  },
  {
   "cell_type": "markdown",
   "metadata": {},
   "source": [
    "Annas definition:\n",
    "\n",
    "    Thruster 1 – NV\n",
    "    Thruster 2 – SV\n",
    "    Thruster 3 – NE\n",
    "    Thruster 4 - SE\n"
   ]
  },
  {
   "cell_type": "code",
   "execution_count": null,
   "metadata": {},
   "outputs": [],
   "source": [
    "df_no_reverse = df.groupby('trip_no').filter(lambda x : x.iloc[0]['reversing']==0)\n",
    "groups = df_no_reverse.groupby('trip_no')\n",
    "trip_no_reverse =groups.get_group(list(groups.groups.keys())[0])\n",
    "trip_ = animate.normalize_power(trip=trip_no_reverse)\n",
    "row = trip_.iloc[500].copy()\n",
    "\n",
    "\n",
    "\n",
    "\n",
    "fig,ax=plt.subplots()\n",
    "fig.set_size_inches(6,6)\n",
    "animate.plot_thrusters(ax=ax, row=row, positions=['NV', 'SV', 'NE', 'SE'])\n",
    "ax.set_title(f'reversing:{row[\"reversing\"]}, trip_direction: {row[\"trip_direction\"]}');"
   ]
  },
  {
   "cell_type": "code",
   "execution_count": null,
   "metadata": {},
   "outputs": [],
   "source": [
    "animate.widget(trip=trip, positions=['NV', 'SV', 'NE', 'SE'])"
   ]
  },
  {
   "cell_type": "markdown",
   "metadata": {},
   "source": [
    "## Transverse force for thrusters during one trip"
   ]
  },
  {
   "cell_type": "code",
   "execution_count": null,
   "metadata": {},
   "outputs": [],
   "source": [
    "sin_keys = ['sin_pm%i' % n for n in range(1,5)]\n",
    "cos_keys = ['cos_pm%i' % n for n in range(1,5)]\n",
    "power_keys = ['power_em_thruster_%i' % n for n in range(1,5)]\n",
    "columns = sin_keys + cos_keys + power_keys"
   ]
  },
  {
   "cell_type": "code",
   "execution_count": null,
   "metadata": {},
   "outputs": [],
   "source": [
    "g = sns.PairGrid(trip[sin_keys])\n",
    "g.map_upper(sns.scatterplot)\n",
    "#g.map_lower(sns.kdeplot)\n",
    "g.map_diag(sns.kdeplot, lw=3, legend=False);"
   ]
  },
  {
   "cell_type": "markdown",
   "metadata": {},
   "source": [
    "## Compare mean power for many trips"
   ]
  },
  {
   "cell_type": "code",
   "execution_count": null,
   "metadata": {},
   "outputs": [],
   "source": [
    "df_mean =  df.groupby('trip_no').mean()"
   ]
  },
  {
   "cell_type": "code",
   "execution_count": null,
   "metadata": {},
   "outputs": [],
   "source": [
    "g = sns.PairGrid(df_mean[power_keys + ['reversing']])\n",
    "g.map_upper(sns.scatterplot)\n",
    "#g.map_lower(sns.kdeplot)\n",
    "g.map_diag(sns.kdeplot, lw=3, legend=False);"
   ]
  },
  {
   "cell_type": "code",
   "execution_count": null,
   "metadata": {},
   "outputs": [],
   "source": [
    "df_no_reverse = df.groupby('trip_no').filter(lambda x : x.iloc[0]['reversing']==1)\n",
    "groups = df_no_reverse.groupby('trip_no')\n",
    "trip_no_reverse =groups.get_group(list(groups.groups.keys())[0])\n",
    "trip_ = animate.normalize_power(trip=trip_no_reverse)\n",
    "row = trip_.iloc[500].copy()\n",
    "\n",
    "fig,ax=plt.subplots()\n",
    "fig.set_size_inches(6,6)\n",
    "animate.plot_thrusters(ax=ax, row=row)\n",
    "ax.set_title(f'reversing:{row[\"reversing\"]}, trip_direction: {row[\"trip_direction\"]}');"
   ]
  },
  {
   "cell_type": "code",
   "execution_count": null,
   "metadata": {},
   "outputs": [],
   "source": [
    "df_no_reverse = df.groupby('trip_no').filter(lambda x : x.iloc[0]['reversing']==0)\n",
    "groups = df_no_reverse.groupby('trip_no')\n",
    "trip_no_reverse =groups.get_group(list(groups.groups.keys())[0])\n",
    "trip_ = animate.normalize_power(trip=trip_no_reverse)\n",
    "row = trip_.iloc[500].copy()\n",
    "\n",
    "fig,ax=plt.subplots()\n",
    "fig.set_size_inches(6,6)\n",
    "animate.plot_thrusters(ax=ax, row=row)\n",
    "ax.set_title(f'reversing:{row[\"reversing\"]}, trip_direction: {row[\"trip_direction\"]}');"
   ]
  },
  {
   "cell_type": "markdown",
   "metadata": {},
   "source": [
    "## Fartygsdata?\n",
    "![](https://upload.wikimedia.org/wikipedia/commons/thumb/f/f1/20190531_Fersea_Tycho_Brahe_Helsingor_0120_%2847981263576%29.jpg/335px-20190531_Fersea_Tycho_Brahe_Helsingor_0120_%2847981263576%29.jpg)\n",
    "* GA?\n",
    "* Max effekt på thrustrar?"
   ]
  },
  {
   "cell_type": "markdown",
   "metadata": {},
   "source": [
    "## Nästa möte..."
   ]
  }
 ],
 "metadata": {
  "celltoolbar": "Slideshow",
  "kernel_info": {
   "name": "python38-azureml"
  },
  "kernelspec": {
   "display_name": "Python 3",
   "language": "python",
   "name": "python3"
  },
  "language_info": {
   "codemirror_mode": {
    "name": "ipython",
    "version": 3
   },
   "file_extension": ".py",
   "mimetype": "text/x-python",
   "name": "python",
   "nbconvert_exporter": "python",
   "pygments_lexer": "ipython3",
   "version": "3.8.7"
  },
  "metadata": {
   "interpreter": {
    "hash": "1af9919311219ec039f6aa4a644c204a4b4e1e8e730770ba7f65632752293606"
   }
  },
  "microsoft": {
   "host": {
    "AzureML": {
     "notebookHasBeenCompleted": true
    }
   }
  },
  "nteract": {
   "version": "nteract-front-end@1.0.0"
  },
  "rise": {
   "autolaunch": true,
   "enable_chalkboard": true,
   "scroll": true,
   "theme": "black",
   "transition": "zoom"
  },
  "toc": {
   "base_numbering": 1,
   "nav_menu": {},
   "number_sections": true,
   "sideBar": true,
   "skip_h1_title": false,
   "title_cell": "Table of Contents",
   "title_sidebar": "Contents",
   "toc_cell": false,
   "toc_position": {},
   "toc_section_display": true,
   "toc_window_display": false
  }
 },
 "nbformat": 4,
 "nbformat_minor": 4
}
